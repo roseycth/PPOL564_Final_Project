{
 "cells": [
  {
   "cell_type": "markdown",
   "metadata": {},
   "source": [
    "# The Ticket to H-1B Visa Lottery: An Analysis on LCA Disclosure Data\n",
    "Rosey Cao"
   ]
  },
  {
   "attachments": {},
   "cell_type": "markdown",
   "metadata": {},
   "source": [
    "## Introduction\n",
    "Trump administration has been pushing new policies regarding [H-1B](https://en.wikipedia.org/wiki/H-1B_visa) visas through the ‘fast-track’ of releasing executive orders. This non-immigrant temporary work visa is essential for foreign workers to be lawfully employed in the US.  Under proposed policies, changes that include limiting the definition of ‘specialty occupations’ and raising prevailing wage requirements for hiring foreign workers will make it more challenging for international students to work in the US right after college graduation. It is no exaggeration to say for international students, getting an H-1B visa is now as hard as winning a lottery.\n",
    "\n",
    "The policy intends to create opportunities for American workers. The administration believes that local workers are being crowded out from the job market because companies will choose to hire foreign workers who get paid less to do similar works. However, this statement needs to be testified. ([Federal Register](https://www.federalregister.gov/documents/2020/10/08/2020-22132/strengthening-wage-protections-for-the-temporary-and-permanent-employment-of-certain-aliens-in-the))\n",
    "\n",
    "To evaluate the overall effect of new rules on H-1B visas, we need to understand the direct stakeholders. This project will conduct an analysis of the Labor Condition Application ([LCA](https://en.wikipedia.org/wiki/Labor_Condition_Application)) disclosure data from the United States Department of Labor ([DOL](https://www.dol.gov/agencies/eta/foreign-labor/performance#dis)). LCA certified is a pre-requisite for H-1B approval and contains information such as employers, job titles, and reported wages. If the LCA information doesn’t meet the qualifications, the prospective applicant will lose the H-1B lottery. Understanding LCA cases will bring us a better view of the implication of recent policies."
   ]
  },
  {
   "attachments": {},
   "cell_type": "markdown",
   "metadata": {},
   "source": [
    "## Data Sources\n",
    "There are several data sources I wish to utilize in my project.\n",
    "1.\t**[H-1B salary database](https://h1bdata.info/)**\n",
    "\n",
    "    This website holds more than 3.8 million data entries of LCA applicants between Oct. 2013 and Jun. 2020. Variables in the tables include employer, job title, base salary, location, submission date, start date, and case status. Data could be queried by city, year, and companies on the main page.\n",
    "    \n",
    "\n",
    "2.\t**[Foreign Labor Certification Data Center](https://www.flcdatacenter.com/)**\n",
    "\n",
    "    Reaching the required prevailing wage is one of the qualifications for H-1B visa approval. This website hosts wage information for different levels of seniority by positions and by cities. \n",
    "\n",
    "\n",
    "3.\t**[Office of Foreign Labor Certification](https://www.dol.gov/agencies/eta/foreign-labor/performance)**\n",
    "\n",
    "    This is the official website for H-1B records by OFLC. Downloadable tables on this page contain comprehensive information on each applicant including whether their H-1B petitions finally get approved. But the file size is very large, and the statistics are by quarters. I will use this website just to cross-check if I need more detailed information than that in the H-1B salary database.\n",
    "\n",
    "\n",
    "4.\t**[American Community Survey Data](https://www.census.gov/programs-surveys/acs/data.html)**\n",
    "\n",
    "    State demographics data and H-1B filings could be correlated. I plan to use information such as the population and race composition of each state in the machine learning part to predict H-1B filings."
   ]
  },
  {
   "attachments": {},
   "cell_type": "markdown",
   "metadata": {},
   "source": [
    "## Plan to obtain the data\n",
    "For data in the H-1B salary database, I will take two perspectives. First, for data in 2020, I will build web scrappers to follow the links on the [“top cities” page](https://h1bdata.info/topcities.php) and read in related tables.  This is equivalent to find all LCA applicant information in the year 2020 regardless of employers and cities. Second, for data demonstrating a trend, I will make efforts to build URLs to query selected companies from the year 2017-2020. \n",
    "For prevailing wage data, I will build a list of URLs to fill in the search field to extract information that is needed by area and/or by positions.\n",
    "For downloadable tables from OFLC and ACS, I will be joining selected variables as a part of data wrangling."
   ]
  },
  {
   "attachments": {},
   "cell_type": "markdown",
   "metadata": {},
   "source": [
    "## Methods\n",
    "Questions I will try to answer through this project are listed below. To answer these questions, (a) data wrangling, (b) data visualizations, and (c) machine learning components are included. Specific methods are listed under each question.\n",
    "\n",
    "1.\tWhich companies have the highest number of H1B filings in 2020? What about grouping by cities?\n",
    "\n",
    "    (a)\tGrouping, ordering\n",
    "    \n",
    "    \n",
    "2.\tWhat’s the distribution of H-1B salary for those certified/ withdrawn/ denied LCAs in 2020? What’s the certified rate?\n",
    "\n",
    "    (a)\tGrouping, creating new variables\n",
    "    \n",
    "    (b)\tMultiple boxplots\n",
    "    \n",
    "    \n",
    "3.\tDistribution of length of preparation period (start – submit)\n",
    "\n",
    "    (a)\tConverting data types, creating new variables\n",
    "    \n",
    "    (b)\tHistogram\n",
    "    \n",
    "    \n",
    "4.\tWhat positions have the highest average salaries among certified LCAs?\n",
    "\n",
    "    (a)\tGrouping and aggregation\n",
    "    \n",
    "    (b)\tHorizontal bar chart to show ranks\n",
    "    \n",
    "    \n",
    "5.\tWhat’s the trend for H-1B filings for top tech companies? (2017-2020, “FLAG” companies: Facebook, LinkedIn, Amazon, Google). Visualize and discuss (i) total numbers of filings (ii) distribution of salaries\n",
    "\n",
    "    (a)\tGrouping and aggregation\n",
    "    \n",
    "    (b)\tMultiple lines demonstrate different companies’ trends; Histograms of salaries (2017 vs. 2020), faceting different companies\n",
    "    \n",
    "    \n",
    "6.\tInsights on specific positions (e.g. policy analysts vs. software engineers in New York) How many people reached the new prevailing wage qualifications? How many will be ruled out under the new policy?\n",
    "\n",
    "    (a)\tCreating ordinal variables by using the “case when” function in SQL and aggregation\n",
    "    \n",
    "    (b)\tStacked bar chart (old v. new classifications)\n",
    "    \n",
    "    \n",
    "7.\tWhat’s the relationship between state demographics and H-1B filings?\n",
    "\n",
    "    (a) Joining data\n",
    "    \n",
    "    (c) Predicting H-1B filings by state population, race composition, and the median income\n",
    "    \n",
    "    \n",
    "8.\tPolicy implication: What’s the impact of new H-1B policies? Is there any differential effect of positions on the number of people affected by higher prevailing wage requirements?\n",
    "\n",
    "    (c) This might be an unsupervised machine learning question. Pairing cities and positions, and then estimating the policy effect will take the example in question 6 to a much higher level."
   ]
  },
  {
   "attachments": {},
   "cell_type": "markdown",
   "metadata": {},
   "source": [
    "## Define Success\n",
    "This policy area is very complicated in terms of both process and outcome. It could be a very extensive project as the administration is proposing new policies recently. (The [latest](https://www.dhs.gov/sites/default/files/publications/20_1028_uscis_h-1b-registration-selection-by-wage-levels-nprm-508.pdf) one is released on Oct.28th).  As I’m evaluating the effect of the policy updates, I believe the intuition behind the data is very important. My goal here is to help readers to better understand the status quo and anticipate the potential influence of the new H-1B policies on the US job market, economy, and international relations."
   ]
  },
  {
   "attachments": {},
   "cell_type": "markdown",
   "metadata": {},
   "source": [
    "## Work Cited\n",
    "Department of Homeland Security. Modification of Registration Requirement for Petitioners Seeking To File Cap-Subject H-1B Petitions. 28 Oct. 2020, https://www.dhs.gov/sites/default/files/publications/20_1028_uscis_h-1b-registration-selection-by-wage-levels-nprm-508.pdf.\n",
    "\n",
    "Federal Register. Strengthening Wage Protections for the Temporary and Permanent Employment of Certain Aliens in the United States. 8 Oct. 2020, https://www.federalregister.gov/documents/2020/10/08/2020-22132/strengthening-wage-protections-for-the-temporary-and-permanent-employment-of-certain-aliens-in-the.\n",
    "\n",
    "FLCDataCenter.Com. https://www.flcdatacenter.com/. Accessed 30 Oct. 2020.\n",
    "\n",
    "“H-1B Visa.” Wikipedia, 29 Oct. 2020. https://en.wikipedia.org/w/index.php?title=H-1B_visa&oldid=986062562.\n",
    "\n",
    "H1B Visa Salary Database 2020 - By Employer, Job, or City. https://h1bdata.info/. Accessed 30 Oct. 2020.\n",
    "\n",
    "“Labor Condition Application.” Wikipedia, 6 June 2020. Wikipedia, https://en.wikipedia.org/w/index.php?title=Labor_Condition_Application&oldid=961045646.\n",
    "\n",
    "Performance Data | U.S. Department of Labor. https://www.dol.gov/agencies/eta/foreign-labor/performance#dis. Accessed 30 Oct. 2020.\n",
    "\n",
    "US Census Bureau. “American Community Survey Data.” The United States Census Bureau, https://www.census.gov/programs-surveys/acs/data.html. Accessed 30 Oct. 2020.\n",
    "\n"
   ]
  }
 ],
 "metadata": {
  "kernelspec": {
   "display_name": "Python 3",
   "language": "python",
   "name": "python3"
  },
  "language_info": {
   "codemirror_mode": {
    "name": "ipython",
    "version": 3
   },
   "file_extension": ".py",
   "mimetype": "text/x-python",
   "name": "python",
   "nbconvert_exporter": "python",
   "pygments_lexer": "ipython3",
   "version": "3.8.5"
  },
  "toc": {
   "base_numbering": "",
   "nav_menu": {},
   "number_sections": false,
   "sideBar": true,
   "skip_h1_title": false,
   "title_cell": "Table of Contents",
   "title_sidebar": "Contents",
   "toc_cell": false,
   "toc_position": {},
   "toc_section_display": true,
   "toc_window_display": false
  }
 },
 "nbformat": 4,
 "nbformat_minor": 4
}
