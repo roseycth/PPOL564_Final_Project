{
 "cells": [
  {
   "cell_type": "markdown",
   "metadata": {},
   "source": [
    "# Dependency"
   ]
  },
  {
   "cell_type": "code",
   "execution_count": 1,
   "metadata": {},
   "outputs": [],
   "source": [
    "### Preparation\n",
    "\n",
    "# Data processing\n",
    "import pandas as pd\n",
    "import numpy as np\n",
    "from datetime import timedelta\n",
    "import datetime\n",
    "import missingno as miss\n",
    "from pandas.api.types import CategoricalDtype # Ordering categories\n",
    "import re\n",
    "# Connection to sql\n",
    "import sqlite3\n",
    "\n",
    "# Data Viz Libraries\n",
    "from plotnine import *\n",
    "import seaborn as sns\n",
    "import matplotlib.pyplot as plt\n",
    "import missingno as msno\n",
    "import wordcloud # Wordcloud\n",
    "from PIL import Image # For mask\n",
    "\n",
    "# Ignore warnings\n",
    "import warnings\n",
    "warnings.filterwarnings('ignore')\n",
    "\n",
    "# Web-scraping libraries\n",
    "import requests # For downloading the website\n",
    "from bs4 import BeautifulSoup # For parsing the website\n",
    "import time # To put the system to sleep\n",
    "import random # for random numbers\n",
    "\n",
    "# For pre-processing data \n",
    "from sklearn import preprocessing as pp \n",
    "from sklearn.compose import ColumnTransformer \n",
    "\n",
    "# For splits and CV\n",
    "from sklearn.model_selection import train_test_split\n",
    "from sklearn.model_selection import KFold # Cross validation \n",
    "from sklearn.model_selection import cross_validate # Cross validation \n",
    "from sklearn.model_selection import GridSearchCV # Cross validation + param. tuning.\n",
    "\n",
    "# Machine learning methods \n",
    "from sklearn.naive_bayes import GaussianNB as NB\n",
    "from sklearn.neighbors import KNeighborsClassifier as KNN\n",
    "from sklearn.tree import DecisionTreeClassifier as DT\n",
    "from sklearn.tree import DecisionTreeRegressor as DT_reg\n",
    "from sklearn.ensemble import RandomForestClassifier as RF\n",
    "from sklearn.svm import LinearSVC as SVC\n",
    "from sklearn import tree # For plotting the decision tree rules\n",
    "\n",
    "# For evaluating our model's performance\n",
    "import sklearn.metrics as m\n",
    "\n",
    "# Pipeline to combine modeling elements\n",
    "from sklearn.pipeline import Pipeline\n",
    "\n",
    "# Misc\n",
    "import warnings\n",
    "warnings.filterwarnings(\"ignore\")"
   ]
  },
  {
   "cell_type": "markdown",
   "metadata": {},
   "source": [
    "# Part 1 Top 50 Cities with Accumulated Most H1B Filings (YR 2019 Data)"
   ]
  },
  {
   "cell_type": "markdown",
   "metadata": {},
   "source": [
    "## Data Collection"
   ]
  },
  {
   "cell_type": "code",
   "execution_count": 2,
   "metadata": {},
   "outputs": [],
   "source": [
    "### Create a list of urls to scrape\n",
    "\n",
    "# Parse the main page\n",
    "url_main = 'https://h1bdata.info/topcities.php'\n",
    "soup_1 = BeautifulSoup(requests.get(url_main).content, 'html.parser')\n",
    "    \n",
    "# Extract relevant links\n",
    "links = []\n",
    "for tag in soup_1.find_all(\"a\"):\n",
    "    href = tag.attrs.get(\"href\")\n",
    "    if \"city=\" in href and \"https:\" not in href:\n",
    "        links.append(\"https://h1bdata.info/\" + href.replace(\"2020\",\"2018\"))\n",
    "        \n",
    "target = links[0:50]"
   ]
  },
  {
   "cell_type": "code",
   "execution_count": 3,
   "metadata": {},
   "outputs": [],
   "source": [
    "### Building a scraper for a single page\n",
    "\n",
    "def h1b_scraper(url=None):\n",
    "    \"\"\"Scrape a single BIT URL (link when clicking a country).\n",
    "\n",
    "    Args:\n",
    "        url: A h1b url to scrape.\n",
    "\n",
    "    Returns:\n",
    "        DataFrame: frame containing the first table following a given BIT url\n",
    "    \"\"\"\n",
    "\n",
    "    # Download the webpage\n",
    "    page = requests.get(url)\n",
    "\n",
    "    # If a connection was reached\n",
    "    if page.status_code == 200:\n",
    "\n",
    "        # Parse\n",
    "        soup = BeautifulSoup(page.content, 'html.parser')\n",
    "        \n",
    "        #Read table\n",
    "        dat = pd.read_html(page.text)[0]\n",
    "        \n",
    "        #grab the city\n",
    "        city = url.split(\"=\")[-1].replace(\"+\",\" \")\n",
    "        dat[\"city\"] = city\n",
    "\n",
    "    #Return the data frame\n",
    "    return dat"
   ]
  },
  {
   "cell_type": "code",
   "execution_count": 4,
   "metadata": {},
   "outputs": [],
   "source": [
    "### Using the scraper build above to scrape relevant links, and a concat the data to a large data frame\n",
    "\n",
    "def link_scrape(urls=None,sleep=2):\n",
    "    \"\"\"Scrape multiple BIT URLS.\n",
    "\n",
    "    Args:\n",
    "        urls (list): list of valid BIT urls.\n",
    "        sleep (int): Integer value specifying how long the machine should be\n",
    "                    put to sleep (random uniform). Defaults to 2.\n",
    "\n",
    "    Returns:\n",
    "        DataFrame: frame containing tables following each BIT url\n",
    "    \"\"\"\n",
    "    scraped_data = []\n",
    "    for url in urls:\n",
    "        \n",
    "        # Keep track of where we are at\n",
    "        print(url)\n",
    "\n",
    "        # Scrape the content, append the data frame to the empty list\n",
    "        scraped_data.append(h1b_scraper(url))\n",
    "\n",
    "        # Put the system to sleep for a random draw of time (be kind)\n",
    "        time.sleep(random.uniform(0,sleep))\n",
    "        \n",
    "        # Create a large data frame\n",
    "        dat = pd.concat(scraped_data)\n",
    "        \n",
    "    return dat"
   ]
  },
  {
   "cell_type": "code",
   "execution_count": 5,
   "metadata": {},
   "outputs": [],
   "source": [
    "target2 = target.copy()"
   ]
  },
  {
   "cell_type": "code",
   "execution_count": 6,
   "metadata": {},
   "outputs": [
    {
     "name": "stdout",
     "output_type": "stream",
     "text": [
      "https://h1bdata.info/index.php?year=2018&city=NEW+YORK\n",
      "https://h1bdata.info/index.php?year=2018&city=SAN+FRANCISCO\n",
      "https://h1bdata.info/index.php?year=2018&city=HOUSTON\n",
      "https://h1bdata.info/index.php?year=2018&city=CHICAGO\n",
      "https://h1bdata.info/index.php?year=2018&city=ATLANTA\n",
      "https://h1bdata.info/index.php?year=2018&city=SAN+JOSE\n",
      "https://h1bdata.info/index.php?year=2018&city=SUNNYVALE\n",
      "https://h1bdata.info/index.php?year=2018&city=SEATTLE\n",
      "https://h1bdata.info/index.php?year=2018&city=MOUNTAIN+VIEW\n",
      "https://h1bdata.info/index.php?year=2018&city=AUSTIN\n",
      "https://h1bdata.info/index.php?year=2018&city=IRVING\n",
      "https://h1bdata.info/index.php?year=2018&city=DALLAS\n",
      "https://h1bdata.info/index.php?year=2018&city=CHARLOTTE\n",
      "https://h1bdata.info/index.php?year=2018&city=REDMOND\n",
      "https://h1bdata.info/index.php?year=2018&city=BOSTON\n",
      "https://h1bdata.info/index.php?year=2018&city=SANTA+CLARA\n",
      "https://h1bdata.info/index.php?year=2018&city=PLANO\n",
      "https://h1bdata.info/index.php?year=2018&city=PHILADELPHIA\n",
      "https://h1bdata.info/index.php?year=2018&city=BELLEVUE\n",
      "https://h1bdata.info/index.php?year=2018&city=PHOENIX\n",
      "https://h1bdata.info/index.php?year=2018&city=JERSEY+CITY\n",
      "https://h1bdata.info/index.php?year=2018&city=COLUMBUS\n",
      "https://h1bdata.info/index.php?year=2018&city=LOS+ANGELES\n",
      "https://h1bdata.info/index.php?year=2018&city=ALPHARETTA\n",
      "https://h1bdata.info/index.php?year=2018&city=SAN+DIEGO\n",
      "https://h1bdata.info/index.php?year=2018&city=PALO+ALTO\n",
      "https://h1bdata.info/index.php?year=2018&city=TAMPA\n",
      "https://h1bdata.info/index.php?year=2018&city=WASHINGTON\n",
      "https://h1bdata.info/index.php?year=2018&city=PITTSBURGH\n",
      "https://h1bdata.info/index.php?year=2018&city=RICHARDSON\n",
      "https://h1bdata.info/index.php?year=2018&city=IRVINE\n",
      "https://h1bdata.info/index.php?year=2018&city=FREMONT\n",
      "https://h1bdata.info/index.php?year=2018&city=PRINCETON\n",
      "https://h1bdata.info/index.php?year=2018&city=RICHMOND\n",
      "https://h1bdata.info/index.php?year=2018&city=CAMBRIDGE\n",
      "https://h1bdata.info/index.php?year=2018&city=MINNEAPOLIS\n",
      "https://h1bdata.info/index.php?year=2018&city=MENLO+PARK\n",
      "https://h1bdata.info/index.php?year=2018&city=WILMINGTON\n",
      "https://h1bdata.info/index.php?year=2018&city=MIAMI\n",
      "https://h1bdata.info/index.php?year=2018&city=DURHAM\n",
      "https://h1bdata.info/index.php?year=2018&city=EDISON\n",
      "https://h1bdata.info/index.php?year=2018&city=SAN+ANTONIO\n",
      "https://h1bdata.info/index.php?year=2018&city=INDIANAPOLIS\n",
      "https://h1bdata.info/index.php?year=2018&city=MCLEAN\n",
      "https://h1bdata.info/index.php?year=2018&city=BENTONVILLE\n",
      "https://h1bdata.info/index.php?year=2018&city=PISCATAWAY\n",
      "https://h1bdata.info/index.php?year=2018&city=CUPERTINO\n",
      "https://h1bdata.info/index.php?year=2018&city=PLEASANTON\n",
      "https://h1bdata.info/index.php?year=2018&city=JACKSONVILLE\n",
      "https://h1bdata.info/index.php?year=2018&city=TROY\n"
     ]
    }
   ],
   "source": [
    "raw = link_scrape(urls=target2)"
   ]
  },
  {
   "cell_type": "code",
   "execution_count": 7,
   "metadata": {
    "scrolled": false
   },
   "outputs": [
    {
     "data": {
      "text/html": [
       "<div>\n",
       "<style scoped>\n",
       "    .dataframe tbody tr th:only-of-type {\n",
       "        vertical-align: middle;\n",
       "    }\n",
       "\n",
       "    .dataframe tbody tr th {\n",
       "        vertical-align: top;\n",
       "    }\n",
       "\n",
       "    .dataframe thead th {\n",
       "        text-align: right;\n",
       "    }\n",
       "</style>\n",
       "<table border=\"1\" class=\"dataframe\">\n",
       "  <thead>\n",
       "    <tr style=\"text-align: right;\">\n",
       "      <th></th>\n",
       "      <th>EMPLOYER</th>\n",
       "      <th>JOB TITLE</th>\n",
       "      <th>BASE SALARY</th>\n",
       "      <th>LOCATION</th>\n",
       "      <th>SUBMIT DATE</th>\n",
       "      <th>START DATE</th>\n",
       "      <th>CASE STATUS</th>\n",
       "      <th>city</th>\n",
       "    </tr>\n",
       "  </thead>\n",
       "  <tbody>\n",
       "    <tr>\n",
       "      <th>0</th>\n",
       "      <td>BARCLAYS SERVICES CORP</td>\n",
       "      <td>.NET QLIK DEVELOPER SYSTEMS ENGINEER</td>\n",
       "      <td>125000</td>\n",
       "      <td>NEW YORK, NY</td>\n",
       "      <td>06/13/2018</td>\n",
       "      <td>07/02/2018</td>\n",
       "      <td>CERTIFIED</td>\n",
       "      <td>NEW YORK</td>\n",
       "    </tr>\n",
       "    <tr>\n",
       "      <th>1</th>\n",
       "      <td>VLINKINC</td>\n",
       "      <td>.NET ARCHITECT</td>\n",
       "      <td>85000</td>\n",
       "      <td>NEW YORK, NY</td>\n",
       "      <td>12/13/2018</td>\n",
       "      <td>12/26/2018</td>\n",
       "      <td>WITHDRAWN</td>\n",
       "      <td>NEW YORK</td>\n",
       "    </tr>\n",
       "    <tr>\n",
       "      <th>2</th>\n",
       "      <td>VLINKINC</td>\n",
       "      <td>.NET ARCHITECT</td>\n",
       "      <td>85000</td>\n",
       "      <td>NEW YORK, NY</td>\n",
       "      <td>12/20/2018</td>\n",
       "      <td>01/03/2019</td>\n",
       "      <td>CERTIFIED</td>\n",
       "      <td>NEW YORK</td>\n",
       "    </tr>\n",
       "    <tr>\n",
       "      <th>3</th>\n",
       "      <td>DIGITAL SCRIPTS INC</td>\n",
       "      <td>.NET DEVELOPER</td>\n",
       "      <td>92700</td>\n",
       "      <td>NEW YORK, NY</td>\n",
       "      <td>11/12/2018</td>\n",
       "      <td>12/28/2018</td>\n",
       "      <td>CERTIFIED</td>\n",
       "      <td>NEW YORK</td>\n",
       "    </tr>\n",
       "    <tr>\n",
       "      <th>4</th>\n",
       "      <td>DIGITAL SCRIPTS INC</td>\n",
       "      <td>.NET DEVELOPER</td>\n",
       "      <td>92800</td>\n",
       "      <td>NEW YORK, NY</td>\n",
       "      <td>08/30/2018</td>\n",
       "      <td>12/28/2018</td>\n",
       "      <td>CERTIFIED</td>\n",
       "      <td>NEW YORK</td>\n",
       "    </tr>\n",
       "    <tr>\n",
       "      <th>...</th>\n",
       "      <td>...</td>\n",
       "      <td>...</td>\n",
       "      <td>...</td>\n",
       "      <td>...</td>\n",
       "      <td>...</td>\n",
       "      <td>...</td>\n",
       "      <td>...</td>\n",
       "      <td>...</td>\n",
       "    </tr>\n",
       "    <tr>\n",
       "      <th>1693</th>\n",
       "      <td>ENTREGA SYSTEMS GROUP INC</td>\n",
       "      <td>WEB APPLICATION DEVELOPER</td>\n",
       "      <td>62000</td>\n",
       "      <td>TROY, MI</td>\n",
       "      <td>03/30/2018</td>\n",
       "      <td>09/08/2018</td>\n",
       "      <td>CERTIFIED</td>\n",
       "      <td>TROY</td>\n",
       "    </tr>\n",
       "    <tr>\n",
       "      <th>1694</th>\n",
       "      <td>BROADGATE INC</td>\n",
       "      <td>WEB DEVELOPER</td>\n",
       "      <td>60000</td>\n",
       "      <td>TROY, MI</td>\n",
       "      <td>02/20/2018</td>\n",
       "      <td>03/01/2018</td>\n",
       "      <td>CERTIFIED</td>\n",
       "      <td>TROY</td>\n",
       "    </tr>\n",
       "    <tr>\n",
       "      <th>1695</th>\n",
       "      <td>ELIX INC</td>\n",
       "      <td>WEB DEVELOPER</td>\n",
       "      <td>71635</td>\n",
       "      <td>TROY, MI</td>\n",
       "      <td>03/30/2018</td>\n",
       "      <td>09/28/2018</td>\n",
       "      <td>CERTIFIED</td>\n",
       "      <td>TROY</td>\n",
       "    </tr>\n",
       "    <tr>\n",
       "      <th>1696</th>\n",
       "      <td>PRECISION TECHNOLOGIES CORP</td>\n",
       "      <td>WINDOWS ADMINISTRATOR</td>\n",
       "      <td>61420</td>\n",
       "      <td>TROY, NY</td>\n",
       "      <td>04/17/2018</td>\n",
       "      <td>04/17/2018</td>\n",
       "      <td>CERTIFIED</td>\n",
       "      <td>TROY</td>\n",
       "    </tr>\n",
       "    <tr>\n",
       "      <th>1697</th>\n",
       "      <td>WEBASTO ROOF SYSTEMS INC</td>\n",
       "      <td>WPS MANAGER</td>\n",
       "      <td>100693</td>\n",
       "      <td>TROY, MI</td>\n",
       "      <td>09/20/2018</td>\n",
       "      <td>10/01/2018</td>\n",
       "      <td>CERTIFIED</td>\n",
       "      <td>TROY</td>\n",
       "    </tr>\n",
       "  </tbody>\n",
       "</table>\n",
       "<p>289871 rows × 8 columns</p>\n",
       "</div>"
      ],
      "text/plain": [
       "                         EMPLOYER                             JOB TITLE  \\\n",
       "0          BARCLAYS SERVICES CORP  .NET QLIK DEVELOPER SYSTEMS ENGINEER   \n",
       "1                        VLINKINC                        .NET ARCHITECT   \n",
       "2                        VLINKINC                        .NET ARCHITECT   \n",
       "3             DIGITAL SCRIPTS INC                        .NET DEVELOPER   \n",
       "4             DIGITAL SCRIPTS INC                        .NET DEVELOPER   \n",
       "...                           ...                                   ...   \n",
       "1693    ENTREGA SYSTEMS GROUP INC             WEB APPLICATION DEVELOPER   \n",
       "1694                BROADGATE INC                         WEB DEVELOPER   \n",
       "1695                     ELIX INC                         WEB DEVELOPER   \n",
       "1696  PRECISION TECHNOLOGIES CORP                 WINDOWS ADMINISTRATOR   \n",
       "1697     WEBASTO ROOF SYSTEMS INC                           WPS MANAGER   \n",
       "\n",
       "      BASE SALARY      LOCATION SUBMIT DATE  START DATE CASE STATUS      city  \n",
       "0          125000  NEW YORK, NY  06/13/2018  07/02/2018   CERTIFIED  NEW YORK  \n",
       "1           85000  NEW YORK, NY  12/13/2018  12/26/2018   WITHDRAWN  NEW YORK  \n",
       "2           85000  NEW YORK, NY  12/20/2018  01/03/2019   CERTIFIED  NEW YORK  \n",
       "3           92700  NEW YORK, NY  11/12/2018  12/28/2018   CERTIFIED  NEW YORK  \n",
       "4           92800  NEW YORK, NY  08/30/2018  12/28/2018   CERTIFIED  NEW YORK  \n",
       "...           ...           ...         ...         ...         ...       ...  \n",
       "1693        62000      TROY, MI  03/30/2018  09/08/2018   CERTIFIED      TROY  \n",
       "1694        60000      TROY, MI  02/20/2018  03/01/2018   CERTIFIED      TROY  \n",
       "1695        71635      TROY, MI  03/30/2018  09/28/2018   CERTIFIED      TROY  \n",
       "1696        61420      TROY, NY  04/17/2018  04/17/2018   CERTIFIED      TROY  \n",
       "1697       100693      TROY, MI  09/20/2018  10/01/2018   CERTIFIED      TROY  \n",
       "\n",
       "[289871 rows x 8 columns]"
      ]
     },
     "execution_count": 7,
     "metadata": {},
     "output_type": "execute_result"
    }
   ],
   "source": [
    "raw"
   ]
  },
  {
   "cell_type": "code",
   "execution_count": 8,
   "metadata": {},
   "outputs": [],
   "source": [
    "# Make a copy of raw to conduct manipulations\n",
    "dat_content = raw.copy()"
   ]
  },
  {
   "cell_type": "markdown",
   "metadata": {},
   "source": [
    "## Initial Data Cleaning"
   ]
  },
  {
   "cell_type": "markdown",
   "metadata": {},
   "source": [
    "**Column Name**"
   ]
  },
  {
   "cell_type": "code",
   "execution_count": 9,
   "metadata": {},
   "outputs": [],
   "source": [
    "dat_content.columns = [c.lower().replace(\" \",\"_\") for c in dat_content.columns]"
   ]
  },
  {
   "cell_type": "code",
   "execution_count": 10,
   "metadata": {},
   "outputs": [
    {
     "data": {
      "text/plain": [
       "Index(['employer', 'job_title', 'base_salary', 'location', 'submit_date',\n",
       "       'start_date', 'case_status', 'city'],\n",
       "      dtype='object')"
      ]
     },
     "execution_count": 10,
     "metadata": {},
     "output_type": "execute_result"
    }
   ],
   "source": [
    "dat_content.columns"
   ]
  },
  {
   "cell_type": "markdown",
   "metadata": {},
   "source": [
    "**Enough Samples?**"
   ]
  },
  {
   "cell_type": "code",
   "execution_count": 11,
   "metadata": {},
   "outputs": [
    {
     "data": {
      "text/plain": [
       "CERTIFIED                277548\n",
       "WITHDRAWN                  8384\n",
       "DENIED                     3495\n",
       "CERTIFIED - WITHDRAWN       444\n",
       "Name: case_status, dtype: int64"
      ]
     },
     "execution_count": 11,
     "metadata": {},
     "output_type": "execute_result"
    }
   ],
   "source": [
    "dat_content.case_status.value_counts()"
   ]
  },
  {
   "cell_type": "markdown",
   "metadata": {},
   "source": [
    "**Data Types**"
   ]
  },
  {
   "cell_type": "code",
   "execution_count": 12,
   "metadata": {
    "scrolled": true
   },
   "outputs": [
    {
     "data": {
      "text/plain": [
       "employer       object\n",
       "job_title      object\n",
       "base_salary     int64\n",
       "location       object\n",
       "submit_date    object\n",
       "start_date     object\n",
       "case_status    object\n",
       "city           object\n",
       "dtype: object"
      ]
     },
     "execution_count": 12,
     "metadata": {},
     "output_type": "execute_result"
    }
   ],
   "source": [
    "dat_content.dtypes"
   ]
  },
  {
   "cell_type": "code",
   "execution_count": 13,
   "metadata": {
    "scrolled": true
   },
   "outputs": [],
   "source": [
    "for col in ['employer', 'job_title', 'location']:\n",
    "    dat_content[col] = dat_content[col].astype('string')"
   ]
  },
  {
   "cell_type": "code",
   "execution_count": 14,
   "metadata": {},
   "outputs": [],
   "source": [
    "dat_content['case_status'] = dat_content['case_status'].astype('string')"
   ]
  },
  {
   "cell_type": "markdown",
   "metadata": {},
   "source": [
    "**Missingness**\n",
    "\n",
    "Not a lot. We can drop them."
   ]
  },
  {
   "cell_type": "code",
   "execution_count": 15,
   "metadata": {
    "scrolled": true
   },
   "outputs": [
    {
     "data": {
      "text/plain": [
       "employer       0\n",
       "job_title      4\n",
       "base_salary    0\n",
       "location       0\n",
       "submit_date    0\n",
       "start_date     0\n",
       "case_status    0\n",
       "city           0\n",
       "dtype: int64"
      ]
     },
     "execution_count": 15,
     "metadata": {},
     "output_type": "execute_result"
    }
   ],
   "source": [
    "dat_content.isna().sum()"
   ]
  },
  {
   "cell_type": "code",
   "execution_count": 16,
   "metadata": {},
   "outputs": [],
   "source": [
    "dat_content = dat_content.dropna()"
   ]
  },
  {
   "cell_type": "markdown",
   "metadata": {},
   "source": [
    "**Clean `job_title`**"
   ]
  },
  {
   "cell_type": "code",
   "execution_count": 17,
   "metadata": {},
   "outputs": [],
   "source": [
    "job_title_clean =[]\n",
    "whitelist = set('0123456789 ABCDEFGHIJKLMNOPQRSTUVWXYZ')\n",
    "for row in dat_content.job_title:\n",
    "    row = ''.join(filter(whitelist.__contains__, row))\n",
    "    job_title_clean.append(row)"
   ]
  },
  {
   "cell_type": "code",
   "execution_count": 18,
   "metadata": {},
   "outputs": [],
   "source": [
    "dat_content['job_title_clean'] = job_title_clean"
   ]
  },
  {
   "cell_type": "code",
   "execution_count": 19,
   "metadata": {},
   "outputs": [],
   "source": [
    "dat_content = dat_content.drop(columns = ['job_title'])"
   ]
  },
  {
   "cell_type": "code",
   "execution_count": 20,
   "metadata": {},
   "outputs": [
    {
     "data": {
      "text/html": [
       "<div>\n",
       "<style scoped>\n",
       "    .dataframe tbody tr th:only-of-type {\n",
       "        vertical-align: middle;\n",
       "    }\n",
       "\n",
       "    .dataframe tbody tr th {\n",
       "        vertical-align: top;\n",
       "    }\n",
       "\n",
       "    .dataframe thead th {\n",
       "        text-align: right;\n",
       "    }\n",
       "</style>\n",
       "<table border=\"1\" class=\"dataframe\">\n",
       "  <thead>\n",
       "    <tr style=\"text-align: right;\">\n",
       "      <th></th>\n",
       "      <th>employer</th>\n",
       "      <th>base_salary</th>\n",
       "      <th>location</th>\n",
       "      <th>submit_date</th>\n",
       "      <th>start_date</th>\n",
       "      <th>case_status</th>\n",
       "      <th>city</th>\n",
       "      <th>job_title_clean</th>\n",
       "    </tr>\n",
       "  </thead>\n",
       "  <tbody>\n",
       "    <tr>\n",
       "      <th>0</th>\n",
       "      <td>BARCLAYS SERVICES CORP</td>\n",
       "      <td>125000</td>\n",
       "      <td>NEW YORK, NY</td>\n",
       "      <td>06/13/2018</td>\n",
       "      <td>07/02/2018</td>\n",
       "      <td>CERTIFIED</td>\n",
       "      <td>NEW YORK</td>\n",
       "      <td>NET QLIK DEVELOPER SYSTEMS ENGINEER</td>\n",
       "    </tr>\n",
       "    <tr>\n",
       "      <th>1</th>\n",
       "      <td>VLINKINC</td>\n",
       "      <td>85000</td>\n",
       "      <td>NEW YORK, NY</td>\n",
       "      <td>12/13/2018</td>\n",
       "      <td>12/26/2018</td>\n",
       "      <td>WITHDRAWN</td>\n",
       "      <td>NEW YORK</td>\n",
       "      <td>NET ARCHITECT</td>\n",
       "    </tr>\n",
       "    <tr>\n",
       "      <th>2</th>\n",
       "      <td>VLINKINC</td>\n",
       "      <td>85000</td>\n",
       "      <td>NEW YORK, NY</td>\n",
       "      <td>12/20/2018</td>\n",
       "      <td>01/03/2019</td>\n",
       "      <td>CERTIFIED</td>\n",
       "      <td>NEW YORK</td>\n",
       "      <td>NET ARCHITECT</td>\n",
       "    </tr>\n",
       "    <tr>\n",
       "      <th>3</th>\n",
       "      <td>DIGITAL SCRIPTS INC</td>\n",
       "      <td>92700</td>\n",
       "      <td>NEW YORK, NY</td>\n",
       "      <td>11/12/2018</td>\n",
       "      <td>12/28/2018</td>\n",
       "      <td>CERTIFIED</td>\n",
       "      <td>NEW YORK</td>\n",
       "      <td>NET DEVELOPER</td>\n",
       "    </tr>\n",
       "    <tr>\n",
       "      <th>4</th>\n",
       "      <td>DIGITAL SCRIPTS INC</td>\n",
       "      <td>92800</td>\n",
       "      <td>NEW YORK, NY</td>\n",
       "      <td>08/30/2018</td>\n",
       "      <td>12/28/2018</td>\n",
       "      <td>CERTIFIED</td>\n",
       "      <td>NEW YORK</td>\n",
       "      <td>NET DEVELOPER</td>\n",
       "    </tr>\n",
       "    <tr>\n",
       "      <th>...</th>\n",
       "      <td>...</td>\n",
       "      <td>...</td>\n",
       "      <td>...</td>\n",
       "      <td>...</td>\n",
       "      <td>...</td>\n",
       "      <td>...</td>\n",
       "      <td>...</td>\n",
       "      <td>...</td>\n",
       "    </tr>\n",
       "    <tr>\n",
       "      <th>1693</th>\n",
       "      <td>ENTREGA SYSTEMS GROUP INC</td>\n",
       "      <td>62000</td>\n",
       "      <td>TROY, MI</td>\n",
       "      <td>03/30/2018</td>\n",
       "      <td>09/08/2018</td>\n",
       "      <td>CERTIFIED</td>\n",
       "      <td>TROY</td>\n",
       "      <td>WEB APPLICATION DEVELOPER</td>\n",
       "    </tr>\n",
       "    <tr>\n",
       "      <th>1694</th>\n",
       "      <td>BROADGATE INC</td>\n",
       "      <td>60000</td>\n",
       "      <td>TROY, MI</td>\n",
       "      <td>02/20/2018</td>\n",
       "      <td>03/01/2018</td>\n",
       "      <td>CERTIFIED</td>\n",
       "      <td>TROY</td>\n",
       "      <td>WEB DEVELOPER</td>\n",
       "    </tr>\n",
       "    <tr>\n",
       "      <th>1695</th>\n",
       "      <td>ELIX INC</td>\n",
       "      <td>71635</td>\n",
       "      <td>TROY, MI</td>\n",
       "      <td>03/30/2018</td>\n",
       "      <td>09/28/2018</td>\n",
       "      <td>CERTIFIED</td>\n",
       "      <td>TROY</td>\n",
       "      <td>WEB DEVELOPER</td>\n",
       "    </tr>\n",
       "    <tr>\n",
       "      <th>1696</th>\n",
       "      <td>PRECISION TECHNOLOGIES CORP</td>\n",
       "      <td>61420</td>\n",
       "      <td>TROY, NY</td>\n",
       "      <td>04/17/2018</td>\n",
       "      <td>04/17/2018</td>\n",
       "      <td>CERTIFIED</td>\n",
       "      <td>TROY</td>\n",
       "      <td>WINDOWS ADMINISTRATOR</td>\n",
       "    </tr>\n",
       "    <tr>\n",
       "      <th>1697</th>\n",
       "      <td>WEBASTO ROOF SYSTEMS INC</td>\n",
       "      <td>100693</td>\n",
       "      <td>TROY, MI</td>\n",
       "      <td>09/20/2018</td>\n",
       "      <td>10/01/2018</td>\n",
       "      <td>CERTIFIED</td>\n",
       "      <td>TROY</td>\n",
       "      <td>WPS MANAGER</td>\n",
       "    </tr>\n",
       "  </tbody>\n",
       "</table>\n",
       "<p>289867 rows × 8 columns</p>\n",
       "</div>"
      ],
      "text/plain": [
       "                         employer  base_salary      location submit_date  \\\n",
       "0          BARCLAYS SERVICES CORP       125000  NEW YORK, NY  06/13/2018   \n",
       "1                        VLINKINC        85000  NEW YORK, NY  12/13/2018   \n",
       "2                        VLINKINC        85000  NEW YORK, NY  12/20/2018   \n",
       "3             DIGITAL SCRIPTS INC        92700  NEW YORK, NY  11/12/2018   \n",
       "4             DIGITAL SCRIPTS INC        92800  NEW YORK, NY  08/30/2018   \n",
       "...                           ...          ...           ...         ...   \n",
       "1693    ENTREGA SYSTEMS GROUP INC        62000      TROY, MI  03/30/2018   \n",
       "1694                BROADGATE INC        60000      TROY, MI  02/20/2018   \n",
       "1695                     ELIX INC        71635      TROY, MI  03/30/2018   \n",
       "1696  PRECISION TECHNOLOGIES CORP        61420      TROY, NY  04/17/2018   \n",
       "1697     WEBASTO ROOF SYSTEMS INC       100693      TROY, MI  09/20/2018   \n",
       "\n",
       "      start_date case_status      city                      job_title_clean  \n",
       "0     07/02/2018   CERTIFIED  NEW YORK  NET QLIK DEVELOPER SYSTEMS ENGINEER  \n",
       "1     12/26/2018   WITHDRAWN  NEW YORK                        NET ARCHITECT  \n",
       "2     01/03/2019   CERTIFIED  NEW YORK                        NET ARCHITECT  \n",
       "3     12/28/2018   CERTIFIED  NEW YORK                        NET DEVELOPER  \n",
       "4     12/28/2018   CERTIFIED  NEW YORK                        NET DEVELOPER  \n",
       "...          ...         ...       ...                                  ...  \n",
       "1693  09/08/2018   CERTIFIED      TROY            WEB APPLICATION DEVELOPER  \n",
       "1694  03/01/2018   CERTIFIED      TROY                        WEB DEVELOPER  \n",
       "1695  09/28/2018   CERTIFIED      TROY                        WEB DEVELOPER  \n",
       "1696  04/17/2018   CERTIFIED      TROY                WINDOWS ADMINISTRATOR  \n",
       "1697  10/01/2018   CERTIFIED      TROY                          WPS MANAGER  \n",
       "\n",
       "[289867 rows x 8 columns]"
      ]
     },
     "execution_count": 20,
     "metadata": {},
     "output_type": "execute_result"
    }
   ],
   "source": [
    "dat_content"
   ]
  },
  {
   "cell_type": "code",
   "execution_count": 21,
   "metadata": {},
   "outputs": [],
   "source": [
    "dat_content1 = dat_content.copy()\n",
    "dat_content1.employer = [g.replace(\"GOOGLE INC\", \"GOOGLE LLC\") for g in dat_content.employer]"
   ]
  },
  {
   "cell_type": "code",
   "execution_count": 24,
   "metadata": {},
   "outputs": [],
   "source": [
    "### Start a connection to SQLite\n",
    "conn = sqlite3.connect(\"h1b.sqlite\")"
   ]
  },
  {
   "cell_type": "code",
   "execution_count": 25,
   "metadata": {},
   "outputs": [],
   "source": [
    "### Save data frames to a sqlite data base\n",
    "dat_content1.to_sql(name=\"h1b_cleaned\",con=conn,index=False)"
   ]
  },
  {
   "cell_type": "markdown",
   "metadata": {},
   "source": [
    "## Questions"
   ]
  },
  {
   "cell_type": "markdown",
   "metadata": {},
   "source": [
    "### 1.\tWhich companies have the highest number of H1B filings in 2018? What about grouping by cities? What are the most popular job titles?"
   ]
  },
  {
   "cell_type": "markdown",
   "metadata": {},
   "source": [
    "#### Companies (Top 100)"
   ]
  },
  {
   "cell_type": "code",
   "execution_count": 26,
   "metadata": {
    "scrolled": true
   },
   "outputs": [
    {
     "data": {
      "text/html": [
       "<div>\n",
       "<style scoped>\n",
       "    .dataframe tbody tr th:only-of-type {\n",
       "        vertical-align: middle;\n",
       "    }\n",
       "\n",
       "    .dataframe tbody tr th {\n",
       "        vertical-align: top;\n",
       "    }\n",
       "\n",
       "    .dataframe thead th {\n",
       "        text-align: right;\n",
       "    }\n",
       "</style>\n",
       "<table border=\"1\" class=\"dataframe\">\n",
       "  <thead>\n",
       "    <tr style=\"text-align: right;\">\n",
       "      <th></th>\n",
       "      <th>employer</th>\n",
       "      <th>count</th>\n",
       "    </tr>\n",
       "  </thead>\n",
       "  <tbody>\n",
       "    <tr>\n",
       "      <th>0</th>\n",
       "      <td>DELOITTE CONSULTING LLP</td>\n",
       "      <td>10019</td>\n",
       "    </tr>\n",
       "    <tr>\n",
       "      <th>1</th>\n",
       "      <td>TATA CONSULTANCY SERVICES LIMITED</td>\n",
       "      <td>6354</td>\n",
       "    </tr>\n",
       "    <tr>\n",
       "      <th>2</th>\n",
       "      <td>COGNIZANT TECHNOLOGY SOLUTIONS US CORP</td>\n",
       "      <td>6009</td>\n",
       "    </tr>\n",
       "    <tr>\n",
       "      <th>3</th>\n",
       "      <td>INFOSYS LIMITED</td>\n",
       "      <td>5707</td>\n",
       "    </tr>\n",
       "    <tr>\n",
       "      <th>4</th>\n",
       "      <td>MICROSOFT CORPORATION</td>\n",
       "      <td>5621</td>\n",
       "    </tr>\n",
       "    <tr>\n",
       "      <th>...</th>\n",
       "      <td>...</td>\n",
       "      <td>...</td>\n",
       "    </tr>\n",
       "    <tr>\n",
       "      <th>95</th>\n",
       "      <td>COLUMBIA UNIVERSITY</td>\n",
       "      <td>254</td>\n",
       "    </tr>\n",
       "    <tr>\n",
       "      <th>96</th>\n",
       "      <td>SAPIENT CORPORATION</td>\n",
       "      <td>254</td>\n",
       "    </tr>\n",
       "    <tr>\n",
       "      <th>97</th>\n",
       "      <td>SAP LABS LLC</td>\n",
       "      <td>253</td>\n",
       "    </tr>\n",
       "    <tr>\n",
       "      <th>98</th>\n",
       "      <td>BARCLAYS SERVICES LLC</td>\n",
       "      <td>252</td>\n",
       "    </tr>\n",
       "    <tr>\n",
       "      <th>99</th>\n",
       "      <td>PINTEREST INC</td>\n",
       "      <td>251</td>\n",
       "    </tr>\n",
       "  </tbody>\n",
       "</table>\n",
       "<p>100 rows × 2 columns</p>\n",
       "</div>"
      ],
      "text/plain": [
       "                                  employer  count\n",
       "0                  DELOITTE CONSULTING LLP  10019\n",
       "1        TATA CONSULTANCY SERVICES LIMITED   6354\n",
       "2   COGNIZANT TECHNOLOGY SOLUTIONS US CORP   6009\n",
       "3                          INFOSYS LIMITED   5707\n",
       "4                    MICROSOFT CORPORATION   5621\n",
       "..                                     ...    ...\n",
       "95                     COLUMBIA UNIVERSITY    254\n",
       "96                     SAPIENT CORPORATION    254\n",
       "97                            SAP LABS LLC    253\n",
       "98                   BARCLAYS SERVICES LLC    252\n",
       "99                           PINTEREST INC    251\n",
       "\n",
       "[100 rows x 2 columns]"
      ]
     },
     "execution_count": 26,
     "metadata": {},
     "output_type": "execute_result"
    }
   ],
   "source": [
    "company_summary = (dat_content1\n",
    " .groupby('employer')\n",
    " .size()\n",
    " .sort_values(ascending = False)\n",
    " .reset_index()\n",
    " .rename(columns = {0: 'count'})\n",
    " .head(100)                  \n",
    ")\n",
    "company_summary"
   ]
  },
  {
   "cell_type": "code",
   "execution_count": 27,
   "metadata": {},
   "outputs": [
    {
     "data": {
      "text/html": [
       "<div>\n",
       "<style scoped>\n",
       "    .dataframe tbody tr th:only-of-type {\n",
       "        vertical-align: middle;\n",
       "    }\n",
       "\n",
       "    .dataframe tbody tr th {\n",
       "        vertical-align: top;\n",
       "    }\n",
       "\n",
       "    .dataframe thead th {\n",
       "        text-align: right;\n",
       "    }\n",
       "</style>\n",
       "<table border=\"1\" class=\"dataframe\">\n",
       "  <thead>\n",
       "    <tr style=\"text-align: right;\">\n",
       "      <th></th>\n",
       "      <th>count</th>\n",
       "    </tr>\n",
       "    <tr>\n",
       "      <th>employer</th>\n",
       "      <th></th>\n",
       "    </tr>\n",
       "  </thead>\n",
       "  <tbody>\n",
       "    <tr>\n",
       "      <th>GOOGLE LLC</th>\n",
       "      <td>5326</td>\n",
       "    </tr>\n",
       "  </tbody>\n",
       "</table>\n",
       "</div>"
      ],
      "text/plain": [
       "            count\n",
       "employer         \n",
       "GOOGLE LLC   5326"
      ]
     },
     "execution_count": 27,
     "metadata": {},
     "output_type": "execute_result"
    }
   ],
   "source": [
    "(company_summary[company_summary['employer']\n",
    "                 .str.contains(\"GOOGLE\")]\n",
    "                 .groupby('employer').sum()\n",
    ")"
   ]
  },
  {
   "cell_type": "code",
   "execution_count": 28,
   "metadata": {},
   "outputs": [
    {
     "data": {
      "image/png": "[encoded data removed]",
      "text/plain": [
       "<Figure size 576x1440 with 1 Axes>"
      ]
     },
     "metadata": {
      "needs_background": "light"
     },
     "output_type": "display_data"
    }
   ],
   "source": [
    "### Generate a bar plot, plot top 100\n",
    "plt.figure(figsize = (8,20))\n",
    "plt.barh(company_summary['employer'], company_summary['count'], color = '#6E53A4',height = 0.85, label ='Count')\n",
    "plt.gca().invert_yaxis() # Invert axis\n",
    "plt.margins(0.01) # Adjust margins\n",
    "plt.xlabel('Number of H1B Filings(source:h1bdata.info)')\n",
    "plt.ylabel('Employers')\n",
    "plt.title('2018 H1B Filings by Companies(Top 100)')\n",
    "plt.legend() # Show legend\n",
    "plt.show()"
   ]
  },
  {
   "cell_type": "markdown",
   "metadata": {},
   "source": [
    "In the original data set, there are Google INC and Google LLC.\n",
    "After the reform, Google INC should be Google LLC."
   ]
  },
  {
   "cell_type": "markdown",
   "metadata": {},
   "source": [
    "#### Cities"
   ]
  },
  {
   "cell_type": "code",
   "execution_count": 29,
   "metadata": {},
   "outputs": [
    {
     "data": {
      "text/html": [
       "<div>\n",
       "<style scoped>\n",
       "    .dataframe tbody tr th:only-of-type {\n",
       "        vertical-align: middle;\n",
       "    }\n",
       "\n",
       "    .dataframe tbody tr th {\n",
       "        vertical-align: top;\n",
       "    }\n",
       "\n",
       "    .dataframe thead th {\n",
       "        text-align: right;\n",
       "    }\n",
       "</style>\n",
       "<table border=\"1\" class=\"dataframe\">\n",
       "  <thead>\n",
       "    <tr style=\"text-align: right;\">\n",
       "      <th></th>\n",
       "      <th>employer</th>\n",
       "      <th>base_salary</th>\n",
       "      <th>location</th>\n",
       "      <th>submit_date</th>\n",
       "      <th>start_date</th>\n",
       "      <th>case_status</th>\n",
       "      <th>city</th>\n",
       "      <th>job_title_clean</th>\n",
       "    </tr>\n",
       "  </thead>\n",
       "  <tbody>\n",
       "    <tr>\n",
       "      <th>0</th>\n",
       "      <td>BARCLAYS SERVICES CORP</td>\n",
       "      <td>125000</td>\n",
       "      <td>NEW YORK, NY</td>\n",
       "      <td>06/13/2018</td>\n",
       "      <td>07/02/2018</td>\n",
       "      <td>CERTIFIED</td>\n",
       "      <td>NEW YORK</td>\n",
       "      <td>NET QLIK DEVELOPER SYSTEMS ENGINEER</td>\n",
       "    </tr>\n",
       "    <tr>\n",
       "      <th>1</th>\n",
       "      <td>VLINKINC</td>\n",
       "      <td>85000</td>\n",
       "      <td>NEW YORK, NY</td>\n",
       "      <td>12/13/2018</td>\n",
       "      <td>12/26/2018</td>\n",
       "      <td>WITHDRAWN</td>\n",
       "      <td>NEW YORK</td>\n",
       "      <td>NET ARCHITECT</td>\n",
       "    </tr>\n",
       "    <tr>\n",
       "      <th>2</th>\n",
       "      <td>VLINKINC</td>\n",
       "      <td>85000</td>\n",
       "      <td>NEW YORK, NY</td>\n",
       "      <td>12/20/2018</td>\n",
       "      <td>01/03/2019</td>\n",
       "      <td>CERTIFIED</td>\n",
       "      <td>NEW YORK</td>\n",
       "      <td>NET ARCHITECT</td>\n",
       "    </tr>\n",
       "    <tr>\n",
       "      <th>3</th>\n",
       "      <td>DIGITAL SCRIPTS INC</td>\n",
       "      <td>92700</td>\n",
       "      <td>NEW YORK, NY</td>\n",
       "      <td>11/12/2018</td>\n",
       "      <td>12/28/2018</td>\n",
       "      <td>CERTIFIED</td>\n",
       "      <td>NEW YORK</td>\n",
       "      <td>NET DEVELOPER</td>\n",
       "    </tr>\n",
       "    <tr>\n",
       "      <th>4</th>\n",
       "      <td>DIGITAL SCRIPTS INC</td>\n",
       "      <td>92800</td>\n",
       "      <td>NEW YORK, NY</td>\n",
       "      <td>08/30/2018</td>\n",
       "      <td>12/28/2018</td>\n",
       "      <td>CERTIFIED</td>\n",
       "      <td>NEW YORK</td>\n",
       "      <td>NET DEVELOPER</td>\n",
       "    </tr>\n",
       "    <tr>\n",
       "      <th>...</th>\n",
       "      <td>...</td>\n",
       "      <td>...</td>\n",
       "      <td>...</td>\n",
       "      <td>...</td>\n",
       "      <td>...</td>\n",
       "      <td>...</td>\n",
       "      <td>...</td>\n",
       "      <td>...</td>\n",
       "    </tr>\n",
       "    <tr>\n",
       "      <th>1693</th>\n",
       "      <td>ENTREGA SYSTEMS GROUP INC</td>\n",
       "      <td>62000</td>\n",
       "      <td>TROY, MI</td>\n",
       "      <td>03/30/2018</td>\n",
       "      <td>09/08/2018</td>\n",
       "      <td>CERTIFIED</td>\n",
       "      <td>TROY</td>\n",
       "      <td>WEB APPLICATION DEVELOPER</td>\n",
       "    </tr>\n",
       "    <tr>\n",
       "      <th>1694</th>\n",
       "      <td>BROADGATE INC</td>\n",
       "      <td>60000</td>\n",
       "      <td>TROY, MI</td>\n",
       "      <td>02/20/2018</td>\n",
       "      <td>03/01/2018</td>\n",
       "      <td>CERTIFIED</td>\n",
       "      <td>TROY</td>\n",
       "      <td>WEB DEVELOPER</td>\n",
       "    </tr>\n",
       "    <tr>\n",
       "      <th>1695</th>\n",
       "      <td>ELIX INC</td>\n",
       "      <td>71635</td>\n",
       "      <td>TROY, MI</td>\n",
       "      <td>03/30/2018</td>\n",
       "      <td>09/28/2018</td>\n",
       "      <td>CERTIFIED</td>\n",
       "      <td>TROY</td>\n",
       "      <td>WEB DEVELOPER</td>\n",
       "    </tr>\n",
       "    <tr>\n",
       "      <th>1696</th>\n",
       "      <td>PRECISION TECHNOLOGIES CORP</td>\n",
       "      <td>61420</td>\n",
       "      <td>TROY, NY</td>\n",
       "      <td>04/17/2018</td>\n",
       "      <td>04/17/2018</td>\n",
       "      <td>CERTIFIED</td>\n",
       "      <td>TROY</td>\n",
       "      <td>WINDOWS ADMINISTRATOR</td>\n",
       "    </tr>\n",
       "    <tr>\n",
       "      <th>1697</th>\n",
       "      <td>WEBASTO ROOF SYSTEMS INC</td>\n",
       "      <td>100693</td>\n",
       "      <td>TROY, MI</td>\n",
       "      <td>09/20/2018</td>\n",
       "      <td>10/01/2018</td>\n",
       "      <td>CERTIFIED</td>\n",
       "      <td>TROY</td>\n",
       "      <td>WPS MANAGER</td>\n",
       "    </tr>\n",
       "  </tbody>\n",
       "</table>\n",
       "<p>289867 rows × 8 columns</p>\n",
       "</div>"
      ],
      "text/plain": [
       "                         employer  base_salary      location submit_date  \\\n",
       "0          BARCLAYS SERVICES CORP       125000  NEW YORK, NY  06/13/2018   \n",
       "1                        VLINKINC        85000  NEW YORK, NY  12/13/2018   \n",
       "2                        VLINKINC        85000  NEW YORK, NY  12/20/2018   \n",
       "3             DIGITAL SCRIPTS INC        92700  NEW YORK, NY  11/12/2018   \n",
       "4             DIGITAL SCRIPTS INC        92800  NEW YORK, NY  08/30/2018   \n",
       "...                           ...          ...           ...         ...   \n",
       "1693    ENTREGA SYSTEMS GROUP INC        62000      TROY, MI  03/30/2018   \n",
       "1694                BROADGATE INC        60000      TROY, MI  02/20/2018   \n",
       "1695                     ELIX INC        71635      TROY, MI  03/30/2018   \n",
       "1696  PRECISION TECHNOLOGIES CORP        61420      TROY, NY  04/17/2018   \n",
       "1697     WEBASTO ROOF SYSTEMS INC       100693      TROY, MI  09/20/2018   \n",
       "\n",
       "      start_date case_status      city                      job_title_clean  \n",
       "0     07/02/2018   CERTIFIED  NEW YORK  NET QLIK DEVELOPER SYSTEMS ENGINEER  \n",
       "1     12/26/2018   WITHDRAWN  NEW YORK                        NET ARCHITECT  \n",
       "2     01/03/2019   CERTIFIED  NEW YORK                        NET ARCHITECT  \n",
       "3     12/28/2018   CERTIFIED  NEW YORK                        NET DEVELOPER  \n",
       "4     12/28/2018   CERTIFIED  NEW YORK                        NET DEVELOPER  \n",
       "...          ...         ...       ...                                  ...  \n",
       "1693  09/08/2018   CERTIFIED      TROY            WEB APPLICATION DEVELOPER  \n",
       "1694  03/01/2018   CERTIFIED      TROY                        WEB DEVELOPER  \n",
       "1695  09/28/2018   CERTIFIED      TROY                        WEB DEVELOPER  \n",
       "1696  04/17/2018   CERTIFIED      TROY                WINDOWS ADMINISTRATOR  \n",
       "1697  10/01/2018   CERTIFIED      TROY                          WPS MANAGER  \n",
       "\n",
       "[289867 rows x 8 columns]"
      ]
     },
     "execution_count": 29,
     "metadata": {},
     "output_type": "execute_result"
    }
   ],
   "source": [
    "dat_content1"
   ]
  },
  {
   "cell_type": "code",
   "execution_count": 30,
   "metadata": {
    "scrolled": false
   },
   "outputs": [
    {
     "data": {
      "text/html": [
       "<div>\n",
       "<style scoped>\n",
       "    .dataframe tbody tr th:only-of-type {\n",
       "        vertical-align: middle;\n",
       "    }\n",
       "\n",
       "    .dataframe tbody tr th {\n",
       "        vertical-align: top;\n",
       "    }\n",
       "\n",
       "    .dataframe thead th {\n",
       "        text-align: right;\n",
       "    }\n",
       "</style>\n",
       "<table border=\"1\" class=\"dataframe\">\n",
       "  <thead>\n",
       "    <tr style=\"text-align: right;\">\n",
       "      <th></th>\n",
       "      <th>city</th>\n",
       "      <th>count</th>\n",
       "    </tr>\n",
       "  </thead>\n",
       "  <tbody>\n",
       "    <tr>\n",
       "      <th>0</th>\n",
       "      <td>NEW YORK</td>\n",
       "      <td>37323</td>\n",
       "    </tr>\n",
       "    <tr>\n",
       "      <th>1</th>\n",
       "      <td>SAN FRANCISCO</td>\n",
       "      <td>17194</td>\n",
       "    </tr>\n",
       "    <tr>\n",
       "      <th>2</th>\n",
       "      <td>CHICAGO</td>\n",
       "      <td>12076</td>\n",
       "    </tr>\n",
       "    <tr>\n",
       "      <th>3</th>\n",
       "      <td>HOUSTON</td>\n",
       "      <td>11525</td>\n",
       "    </tr>\n",
       "    <tr>\n",
       "      <th>4</th>\n",
       "      <td>SAN JOSE</td>\n",
       "      <td>11409</td>\n",
       "    </tr>\n",
       "    <tr>\n",
       "      <th>5</th>\n",
       "      <td>ATLANTA</td>\n",
       "      <td>10894</td>\n",
       "    </tr>\n",
       "    <tr>\n",
       "      <th>6</th>\n",
       "      <td>SEATTLE</td>\n",
       "      <td>10273</td>\n",
       "    </tr>\n",
       "    <tr>\n",
       "      <th>7</th>\n",
       "      <td>SUNNYVALE</td>\n",
       "      <td>9738</td>\n",
       "    </tr>\n",
       "    <tr>\n",
       "      <th>8</th>\n",
       "      <td>AUSTIN</td>\n",
       "      <td>7639</td>\n",
       "    </tr>\n",
       "    <tr>\n",
       "      <th>9</th>\n",
       "      <td>DALLAS</td>\n",
       "      <td>7484</td>\n",
       "    </tr>\n",
       "    <tr>\n",
       "      <th>10</th>\n",
       "      <td>PHILADELPHIA</td>\n",
       "      <td>7200</td>\n",
       "    </tr>\n",
       "    <tr>\n",
       "      <th>11</th>\n",
       "      <td>IRVING</td>\n",
       "      <td>7196</td>\n",
       "    </tr>\n",
       "    <tr>\n",
       "      <th>12</th>\n",
       "      <td>REDMOND</td>\n",
       "      <td>7158</td>\n",
       "    </tr>\n",
       "    <tr>\n",
       "      <th>13</th>\n",
       "      <td>BOSTON</td>\n",
       "      <td>7139</td>\n",
       "    </tr>\n",
       "    <tr>\n",
       "      <th>14</th>\n",
       "      <td>CHARLOTTE</td>\n",
       "      <td>7131</td>\n",
       "    </tr>\n",
       "    <tr>\n",
       "      <th>15</th>\n",
       "      <td>MOUNTAIN VIEW</td>\n",
       "      <td>7049</td>\n",
       "    </tr>\n",
       "    <tr>\n",
       "      <th>16</th>\n",
       "      <td>PLANO</td>\n",
       "      <td>6422</td>\n",
       "    </tr>\n",
       "    <tr>\n",
       "      <th>17</th>\n",
       "      <td>SANTA CLARA</td>\n",
       "      <td>5884</td>\n",
       "    </tr>\n",
       "    <tr>\n",
       "      <th>18</th>\n",
       "      <td>COLUMBUS</td>\n",
       "      <td>5057</td>\n",
       "    </tr>\n",
       "    <tr>\n",
       "      <th>19</th>\n",
       "      <td>PHOENIX</td>\n",
       "      <td>5040</td>\n",
       "    </tr>\n",
       "    <tr>\n",
       "      <th>20</th>\n",
       "      <td>LOS ANGELES</td>\n",
       "      <td>4982</td>\n",
       "    </tr>\n",
       "    <tr>\n",
       "      <th>21</th>\n",
       "      <td>BELLEVUE</td>\n",
       "      <td>4950</td>\n",
       "    </tr>\n",
       "    <tr>\n",
       "      <th>22</th>\n",
       "      <td>JERSEY CITY</td>\n",
       "      <td>4769</td>\n",
       "    </tr>\n",
       "    <tr>\n",
       "      <th>23</th>\n",
       "      <td>ALPHARETTA</td>\n",
       "      <td>4664</td>\n",
       "    </tr>\n",
       "    <tr>\n",
       "      <th>24</th>\n",
       "      <td>PALO ALTO</td>\n",
       "      <td>4269</td>\n",
       "    </tr>\n",
       "    <tr>\n",
       "      <th>25</th>\n",
       "      <td>SAN DIEGO</td>\n",
       "      <td>4142</td>\n",
       "    </tr>\n",
       "    <tr>\n",
       "      <th>26</th>\n",
       "      <td>TAMPA</td>\n",
       "      <td>3931</td>\n",
       "    </tr>\n",
       "    <tr>\n",
       "      <th>27</th>\n",
       "      <td>PITTSBURGH</td>\n",
       "      <td>3900</td>\n",
       "    </tr>\n",
       "    <tr>\n",
       "      <th>28</th>\n",
       "      <td>WASHINGTON</td>\n",
       "      <td>3459</td>\n",
       "    </tr>\n",
       "    <tr>\n",
       "      <th>29</th>\n",
       "      <td>IRVINE</td>\n",
       "      <td>3151</td>\n",
       "    </tr>\n",
       "    <tr>\n",
       "      <th>30</th>\n",
       "      <td>FREMONT</td>\n",
       "      <td>2890</td>\n",
       "    </tr>\n",
       "    <tr>\n",
       "      <th>31</th>\n",
       "      <td>RICHARDSON</td>\n",
       "      <td>2844</td>\n",
       "    </tr>\n",
       "    <tr>\n",
       "      <th>32</th>\n",
       "      <td>MENLO PARK</td>\n",
       "      <td>2755</td>\n",
       "    </tr>\n",
       "    <tr>\n",
       "      <th>33</th>\n",
       "      <td>RICHMOND</td>\n",
       "      <td>2745</td>\n",
       "    </tr>\n",
       "    <tr>\n",
       "      <th>34</th>\n",
       "      <td>MINNEAPOLIS</td>\n",
       "      <td>2734</td>\n",
       "    </tr>\n",
       "    <tr>\n",
       "      <th>35</th>\n",
       "      <td>MCLEAN</td>\n",
       "      <td>2664</td>\n",
       "    </tr>\n",
       "    <tr>\n",
       "      <th>36</th>\n",
       "      <td>CAMBRIDGE</td>\n",
       "      <td>2615</td>\n",
       "    </tr>\n",
       "    <tr>\n",
       "      <th>37</th>\n",
       "      <td>WILMINGTON</td>\n",
       "      <td>2545</td>\n",
       "    </tr>\n",
       "    <tr>\n",
       "      <th>38</th>\n",
       "      <td>DURHAM</td>\n",
       "      <td>2446</td>\n",
       "    </tr>\n",
       "    <tr>\n",
       "      <th>39</th>\n",
       "      <td>PRINCETON</td>\n",
       "      <td>2435</td>\n",
       "    </tr>\n",
       "    <tr>\n",
       "      <th>40</th>\n",
       "      <td>MIAMI</td>\n",
       "      <td>2376</td>\n",
       "    </tr>\n",
       "    <tr>\n",
       "      <th>41</th>\n",
       "      <td>INDIANAPOLIS</td>\n",
       "      <td>2370</td>\n",
       "    </tr>\n",
       "    <tr>\n",
       "      <th>42</th>\n",
       "      <td>PLEASANTON</td>\n",
       "      <td>2265</td>\n",
       "    </tr>\n",
       "    <tr>\n",
       "      <th>43</th>\n",
       "      <td>SAN ANTONIO</td>\n",
       "      <td>2071</td>\n",
       "    </tr>\n",
       "    <tr>\n",
       "      <th>44</th>\n",
       "      <td>JACKSONVILLE</td>\n",
       "      <td>2063</td>\n",
       "    </tr>\n",
       "    <tr>\n",
       "      <th>45</th>\n",
       "      <td>BENTONVILLE</td>\n",
       "      <td>2062</td>\n",
       "    </tr>\n",
       "    <tr>\n",
       "      <th>46</th>\n",
       "      <td>EDISON</td>\n",
       "      <td>1871</td>\n",
       "    </tr>\n",
       "    <tr>\n",
       "      <th>47</th>\n",
       "      <td>CUPERTINO</td>\n",
       "      <td>1849</td>\n",
       "    </tr>\n",
       "    <tr>\n",
       "      <th>48</th>\n",
       "      <td>TROY</td>\n",
       "      <td>1698</td>\n",
       "    </tr>\n",
       "    <tr>\n",
       "      <th>49</th>\n",
       "      <td>PISCATAWAY</td>\n",
       "      <td>1521</td>\n",
       "    </tr>\n",
       "  </tbody>\n",
       "</table>\n",
       "</div>"
      ],
      "text/plain": [
       "             city  count\n",
       "0        NEW YORK  37323\n",
       "1   SAN FRANCISCO  17194\n",
       "2         CHICAGO  12076\n",
       "3         HOUSTON  11525\n",
       "4        SAN JOSE  11409\n",
       "5         ATLANTA  10894\n",
       "6         SEATTLE  10273\n",
       "7       SUNNYVALE   9738\n",
       "8          AUSTIN   7639\n",
       "9          DALLAS   7484\n",
       "10   PHILADELPHIA   7200\n",
       "11         IRVING   7196\n",
       "12        REDMOND   7158\n",
       "13         BOSTON   7139\n",
       "14      CHARLOTTE   7131\n",
       "15  MOUNTAIN VIEW   7049\n",
       "16          PLANO   6422\n",
       "17    SANTA CLARA   5884\n",
       "18       COLUMBUS   5057\n",
       "19        PHOENIX   5040\n",
       "20    LOS ANGELES   4982\n",
       "21       BELLEVUE   4950\n",
       "22    JERSEY CITY   4769\n",
       "23     ALPHARETTA   4664\n",
       "24      PALO ALTO   4269\n",
       "25      SAN DIEGO   4142\n",
       "26          TAMPA   3931\n",
       "27     PITTSBURGH   3900\n",
       "28     WASHINGTON   3459\n",
       "29         IRVINE   3151\n",
       "30        FREMONT   2890\n",
       "31     RICHARDSON   2844\n",
       "32     MENLO PARK   2755\n",
       "33       RICHMOND   2745\n",
       "34    MINNEAPOLIS   2734\n",
       "35         MCLEAN   2664\n",
       "36      CAMBRIDGE   2615\n",
       "37     WILMINGTON   2545\n",
       "38         DURHAM   2446\n",
       "39      PRINCETON   2435\n",
       "40          MIAMI   2376\n",
       "41   INDIANAPOLIS   2370\n",
       "42     PLEASANTON   2265\n",
       "43    SAN ANTONIO   2071\n",
       "44   JACKSONVILLE   2063\n",
       "45    BENTONVILLE   2062\n",
       "46         EDISON   1871\n",
       "47      CUPERTINO   1849\n",
       "48           TROY   1698\n",
       "49     PISCATAWAY   1521"
      ]
     },
     "execution_count": 30,
     "metadata": {},
     "output_type": "execute_result"
    }
   ],
   "source": [
    "city_summary = (dat_content1\n",
    " .groupby('city')\n",
    " .size()\n",
    " .sort_values(ascending = False)\n",
    " .reset_index()\n",
    " .rename(columns = {0: 'count'})                  \n",
    ")\n",
    "city_summary"
   ]
  },
  {
   "cell_type": "code",
   "execution_count": 31,
   "metadata": {},
   "outputs": [
    {
     "data": {
      "image/png": "[encoded data removed]",
      "text/plain": [
       "<Figure size 576x1440 with 1 Axes>"
      ]
     },
     "metadata": {
      "needs_background": "light"
     },
     "output_type": "display_data"
    }
   ],
   "source": [
    "### Generate a bar plot, plot top 100\n",
    "plt.figure(figsize = (8,20))\n",
    "plt.barh(city_summary['city'], city_summary['count'], color = '#9F82C0',height = 0.85, label ='Count')\n",
    "plt.gca().invert_yaxis() # Invert axis\n",
    "plt.margins(0.01) # Adjust margins\n",
    "plt.xlabel('Number of H1B Filings (source:h1bdata.info)')\n",
    "plt.ylabel('City')\n",
    "plt.title('2018 H1B Filings by Cities(Top 50)')\n",
    "plt.legend() # Show legend\n",
    "plt.show()"
   ]
  },
  {
   "cell_type": "markdown",
   "metadata": {},
   "source": [
    "#### Job Titles"
   ]
  },
  {
   "cell_type": "code",
   "execution_count": 32,
   "metadata": {},
   "outputs": [
    {
     "data": {
      "text/html": [
       "<div>\n",
       "<style scoped>\n",
       "    .dataframe tbody tr th:only-of-type {\n",
       "        vertical-align: middle;\n",
       "    }\n",
       "\n",
       "    .dataframe tbody tr th {\n",
       "        vertical-align: top;\n",
       "    }\n",
       "\n",
       "    .dataframe thead th {\n",
       "        text-align: right;\n",
       "    }\n",
       "</style>\n",
       "<table border=\"1\" class=\"dataframe\">\n",
       "  <thead>\n",
       "    <tr style=\"text-align: right;\">\n",
       "      <th></th>\n",
       "      <th>job_title_clean</th>\n",
       "      <th>count</th>\n",
       "    </tr>\n",
       "  </thead>\n",
       "  <tbody>\n",
       "    <tr>\n",
       "      <th>0</th>\n",
       "      <td>SOFTWARE ENGINEER</td>\n",
       "      <td>20469</td>\n",
       "    </tr>\n",
       "    <tr>\n",
       "      <th>1</th>\n",
       "      <td>SOFTWARE DEVELOPER</td>\n",
       "      <td>14705</td>\n",
       "    </tr>\n",
       "    <tr>\n",
       "      <th>2</th>\n",
       "      <td>SENIOR SOFTWARE ENGINEER</td>\n",
       "      <td>4995</td>\n",
       "    </tr>\n",
       "    <tr>\n",
       "      <th>3</th>\n",
       "      <td>CONSULTANT</td>\n",
       "      <td>4090</td>\n",
       "    </tr>\n",
       "    <tr>\n",
       "      <th>4</th>\n",
       "      <td>PROGRAMMER ANALYST</td>\n",
       "      <td>3864</td>\n",
       "    </tr>\n",
       "    <tr>\n",
       "      <th>...</th>\n",
       "      <td>...</td>\n",
       "      <td>...</td>\n",
       "    </tr>\n",
       "    <tr>\n",
       "      <th>46742</th>\n",
       "      <td>QA ENGINEER MEMBER OF TECHNICAL STAFF</td>\n",
       "      <td>1</td>\n",
       "    </tr>\n",
       "    <tr>\n",
       "      <th>46743</th>\n",
       "      <td>QA ENGINEER IV</td>\n",
       "      <td>1</td>\n",
       "    </tr>\n",
       "    <tr>\n",
       "      <th>46744</th>\n",
       "      <td>QA ENGINEER III</td>\n",
       "      <td>1</td>\n",
       "    </tr>\n",
       "    <tr>\n",
       "      <th>46745</th>\n",
       "      <td>QA ENGINEER DEVELOPER</td>\n",
       "      <td>1</td>\n",
       "    </tr>\n",
       "    <tr>\n",
       "      <th>46746</th>\n",
       "      <td>NETWORK OPERATIONS ANALYST</td>\n",
       "      <td>1</td>\n",
       "    </tr>\n",
       "  </tbody>\n",
       "</table>\n",
       "<p>46747 rows × 2 columns</p>\n",
       "</div>"
      ],
      "text/plain": [
       "                             job_title_clean  count\n",
       "0                          SOFTWARE ENGINEER  20469\n",
       "1                         SOFTWARE DEVELOPER  14705\n",
       "2                   SENIOR SOFTWARE ENGINEER   4995\n",
       "3                                 CONSULTANT   4090\n",
       "4                         PROGRAMMER ANALYST   3864\n",
       "...                                      ...    ...\n",
       "46742  QA ENGINEER MEMBER OF TECHNICAL STAFF      1\n",
       "46743                         QA ENGINEER IV      1\n",
       "46744                        QA ENGINEER III      1\n",
       "46745                  QA ENGINEER DEVELOPER      1\n",
       "46746             NETWORK OPERATIONS ANALYST      1\n",
       "\n",
       "[46747 rows x 2 columns]"
      ]
     },
     "execution_count": 32,
     "metadata": {},
     "output_type": "execute_result"
    }
   ],
   "source": [
    "job_summary = (dat_content1\n",
    " .groupby('job_title_clean')\n",
    " .size()\n",
    " .sort_values(ascending = False)\n",
    " .reset_index()\n",
    " .rename(columns = {0: 'count'})\n",
    ")\n",
    "job_summary"
   ]
  },
  {
   "cell_type": "code",
   "execution_count": 33,
   "metadata": {},
   "outputs": [],
   "source": [
    "long_str = ''.join(job_summary.job_title_clean)"
   ]
  },
  {
   "cell_type": "code",
   "execution_count": 108,
   "metadata": {
    "scrolled": true
   },
   "outputs": [
    {
     "data": {
      "image/png": "[encoded data removed]",
      "text/plain": [
       "<Figure size 720x720 with 1 Axes>"
      ]
     },
     "metadata": {
      "needs_background": "light"
     },
     "output_type": "display_data"
    }
   ],
   "source": [
    "h1b_mask = np.array(Image.open(\"./images/h1b.png\"))\n",
    "c = wordcloud.WordCloud(background_color = \"white\",\n",
    "              width=736,\n",
    "              height=715,\n",
    "              colormap=plt.cm.inferno,\n",
    "              mask = h1b_mask)\n",
    "wc = c.generate(long_str)\n",
    "plt.figure(figsize = (10,10))\n",
    "plt.imshow(wc, interpolation='bilinear')\n",
    "plt.axis(\"off\")\n",
    "plt.title('Word cloud for H-1B job titles (source:h1bdata.info)')\n",
    "plt.show()"
   ]
  },
  {
   "cell_type": "code",
   "execution_count": 35,
   "metadata": {},
   "outputs": [
    {
     "data": {
      "text/html": [
       "<div>\n",
       "<style scoped>\n",
       "    .dataframe tbody tr th:only-of-type {\n",
       "        vertical-align: middle;\n",
       "    }\n",
       "\n",
       "    .dataframe tbody tr th {\n",
       "        vertical-align: top;\n",
       "    }\n",
       "\n",
       "    .dataframe thead th {\n",
       "        text-align: right;\n",
       "    }\n",
       "</style>\n",
       "<table border=\"1\" class=\"dataframe\">\n",
       "  <thead>\n",
       "    <tr style=\"text-align: right;\">\n",
       "      <th></th>\n",
       "      <th>job_title_clean</th>\n",
       "      <th>count</th>\n",
       "    </tr>\n",
       "  </thead>\n",
       "  <tbody>\n",
       "    <tr>\n",
       "      <th>0</th>\n",
       "      <td>SOFTWARE ENGINEER</td>\n",
       "      <td>20469</td>\n",
       "    </tr>\n",
       "    <tr>\n",
       "      <th>2</th>\n",
       "      <td>SENIOR SOFTWARE ENGINEER</td>\n",
       "      <td>4995</td>\n",
       "    </tr>\n",
       "    <tr>\n",
       "      <th>10</th>\n",
       "      <td>SOFTWARE DEVELOPMENT ENGINEER II</td>\n",
       "      <td>1893</td>\n",
       "    </tr>\n",
       "    <tr>\n",
       "      <th>19</th>\n",
       "      <td>ENGINEER</td>\n",
       "      <td>1286</td>\n",
       "    </tr>\n",
       "    <tr>\n",
       "      <th>24</th>\n",
       "      <td>SYSTEMS ENGINEER</td>\n",
       "      <td>1092</td>\n",
       "    </tr>\n",
       "    <tr>\n",
       "      <th>...</th>\n",
       "      <td>...</td>\n",
       "      <td>...</td>\n",
       "    </tr>\n",
       "    <tr>\n",
       "      <th>46741</th>\n",
       "      <td>QA ENGINEER SOFTWARE ENGINEER IN TEST</td>\n",
       "      <td>1</td>\n",
       "    </tr>\n",
       "    <tr>\n",
       "      <th>46742</th>\n",
       "      <td>QA ENGINEER MEMBER OF TECHNICAL STAFF</td>\n",
       "      <td>1</td>\n",
       "    </tr>\n",
       "    <tr>\n",
       "      <th>46743</th>\n",
       "      <td>QA ENGINEER IV</td>\n",
       "      <td>1</td>\n",
       "    </tr>\n",
       "    <tr>\n",
       "      <th>46744</th>\n",
       "      <td>QA ENGINEER III</td>\n",
       "      <td>1</td>\n",
       "    </tr>\n",
       "    <tr>\n",
       "      <th>46745</th>\n",
       "      <td>QA ENGINEER DEVELOPER</td>\n",
       "      <td>1</td>\n",
       "    </tr>\n",
       "  </tbody>\n",
       "</table>\n",
       "<p>10820 rows × 2 columns</p>\n",
       "</div>"
      ],
      "text/plain": [
       "                             job_title_clean  count\n",
       "0                          SOFTWARE ENGINEER  20469\n",
       "2                   SENIOR SOFTWARE ENGINEER   4995\n",
       "10          SOFTWARE DEVELOPMENT ENGINEER II   1893\n",
       "19                                  ENGINEER   1286\n",
       "24                          SYSTEMS ENGINEER   1092\n",
       "...                                      ...    ...\n",
       "46741  QA ENGINEER SOFTWARE ENGINEER IN TEST      1\n",
       "46742  QA ENGINEER MEMBER OF TECHNICAL STAFF      1\n",
       "46743                         QA ENGINEER IV      1\n",
       "46744                        QA ENGINEER III      1\n",
       "46745                  QA ENGINEER DEVELOPER      1\n",
       "\n",
       "[10820 rows x 2 columns]"
      ]
     },
     "execution_count": 35,
     "metadata": {},
     "output_type": "execute_result"
    }
   ],
   "source": [
    "job_engineer = job_summary[job_summary['job_title_clean'].str.contains(\"ENGINEER\")] \n",
    "job_engineer"
   ]
  },
  {
   "cell_type": "code",
   "execution_count": 36,
   "metadata": {},
   "outputs": [
    {
     "data": {
      "text/plain": [
       "0.23145870323229298"
      ]
     },
     "execution_count": 36,
     "metadata": {},
     "output_type": "execute_result"
    }
   ],
   "source": [
    "job_engineer.shape[0]/job_summary.shape[0]"
   ]
  },
  {
   "cell_type": "markdown",
   "metadata": {},
   "source": [
    "### 2. What’s the distribution of H-1B salary for those certified/ withdrawn/ denied LCAs in 2018? What’s the certified rate?"
   ]
  },
  {
   "cell_type": "code",
   "execution_count": 37,
   "metadata": {},
   "outputs": [
    {
     "data": {
      "image/png": "[encoded data removed]",
      "text/plain": [
       "<Figure size 640x480 with 1 Axes>"
      ]
     },
     "metadata": {},
     "output_type": "display_data"
    },
    {
     "data": {
      "text/plain": [
       "<ggplot: (8794556212474)>"
      ]
     },
     "execution_count": 37,
     "metadata": {},
     "output_type": "execute_result"
    }
   ],
   "source": [
    "(\n",
    "    ggplot(dat_content1) +\n",
    "    geom_boxplot(aes(dat_content1.case_status,dat_content1.base_salary,fill=dat_content1.case_status)) +\n",
    "    ylim(0,100000)+\n",
    "    theme(figure_size = (10,8))+\n",
    "    theme_bw()+\n",
    "    labs(title = \"Distribution of H-1B salary by case status\",\n",
    "         x = 'Case status (source:h1bdata.info)',\n",
    "         y = 'Base_salary')\n",
    ")"
   ]
  },
  {
   "cell_type": "code",
   "execution_count": 38,
   "metadata": {},
   "outputs": [],
   "source": [
    "p = (dat_content1\n",
    " .groupby('case_status')\n",
    " .size()\n",
    " .reset_index()\n",
    " .rename(columns = {0: 'count'})\n",
    ")"
   ]
  },
  {
   "cell_type": "code",
   "execution_count": 39,
   "metadata": {},
   "outputs": [],
   "source": [
    "p['percentage'] = (p['count']/dat_content1.shape[0]*100)"
   ]
  },
  {
   "cell_type": "code",
   "execution_count": 40,
   "metadata": {},
   "outputs": [
    {
     "data": {
      "text/html": [
       "<div>\n",
       "<style scoped>\n",
       "    .dataframe tbody tr th:only-of-type {\n",
       "        vertical-align: middle;\n",
       "    }\n",
       "\n",
       "    .dataframe tbody tr th {\n",
       "        vertical-align: top;\n",
       "    }\n",
       "\n",
       "    .dataframe thead th {\n",
       "        text-align: right;\n",
       "    }\n",
       "</style>\n",
       "<table border=\"1\" class=\"dataframe\">\n",
       "  <thead>\n",
       "    <tr style=\"text-align: right;\">\n",
       "      <th></th>\n",
       "      <th>case_status</th>\n",
       "      <th>count</th>\n",
       "      <th>percentage</th>\n",
       "    </tr>\n",
       "  </thead>\n",
       "  <tbody>\n",
       "    <tr>\n",
       "      <th>0</th>\n",
       "      <td>CERTIFIED</td>\n",
       "      <td>277547</td>\n",
       "      <td>95.749775</td>\n",
       "    </tr>\n",
       "    <tr>\n",
       "      <th>1</th>\n",
       "      <td>CERTIFIED - WITHDRAWN</td>\n",
       "      <td>444</td>\n",
       "      <td>0.153174</td>\n",
       "    </tr>\n",
       "    <tr>\n",
       "      <th>2</th>\n",
       "      <td>DENIED</td>\n",
       "      <td>3493</td>\n",
       "      <td>1.205035</td>\n",
       "    </tr>\n",
       "    <tr>\n",
       "      <th>3</th>\n",
       "      <td>WITHDRAWN</td>\n",
       "      <td>8383</td>\n",
       "      <td>2.892016</td>\n",
       "    </tr>\n",
       "  </tbody>\n",
       "</table>\n",
       "</div>"
      ],
      "text/plain": [
       "             case_status   count  percentage\n",
       "0              CERTIFIED  277547   95.749775\n",
       "1  CERTIFIED - WITHDRAWN     444    0.153174\n",
       "2                 DENIED    3493    1.205035\n",
       "3              WITHDRAWN    8383    2.892016"
      ]
     },
     "execution_count": 40,
     "metadata": {},
     "output_type": "execute_result"
    }
   ],
   "source": [
    "p"
   ]
  },
  {
   "cell_type": "code",
   "execution_count": 102,
   "metadata": {},
   "outputs": [
    {
     "data": {
      "image/png": "[encoded data removed]",
      "text/plain": [
       "<Figure size 640x480 with 1 Axes>"
      ]
     },
     "metadata": {},
     "output_type": "display_data"
    },
    {
     "data": {
      "text/plain": [
       "<ggplot: (8794543675781)>"
      ]
     },
     "execution_count": 102,
     "metadata": {},
     "output_type": "execute_result"
    }
   ],
   "source": [
    "(\n",
    "    ggplot(p, aes(x='case_status', y='percentage', fill='case_status'))+\n",
    "    geom_bar(width = 1, stat = \"identity\")+\n",
    "    geom_text(aes(label = 'percentage'),\n",
    "              nudge_y=0.125,\n",
    "              va='bottom',\n",
    "              format_string='{:.2f}% ')+\n",
    "    theme_bw()+\n",
    "    labs(title = \"Distribution of H-1B case status\",\n",
    "         x = 'Case status (source:h1bdata.info)',\n",
    "         y = 'Percentage')\n",
    ")"
   ]
  },
  {
   "cell_type": "markdown",
   "metadata": {},
   "source": [
    "### 3.Distribution of length of preparation period (submit – start)"
   ]
  },
  {
   "cell_type": "code",
   "execution_count": 42,
   "metadata": {},
   "outputs": [],
   "source": [
    "###Create \"n_days\"\n",
    "dat_content2 = dat_content1.copy()\n",
    "    # split effective column\n",
    "dat_content2['start_date'] = dat_content2['start_date'].astype(\"datetime64\")\n",
    "    # create start date\n",
    "dat_content2['submit_date'] = dat_content2['submit_date'].astype(\"datetime64\")\n",
    "    # create end date\n",
    "dat_content2['n_days'] = dat_content2['start_date'] - dat_content2['submit_date'] + timedelta(days=1)\n",
    "    #Calculate preparation periods\n",
    "dat_content2['n_days'] = dat_content2['n_days'].astype(\"string\").replace('NaT','0')\n",
    "    # Brush up, change data type to string and replace \"NaT\" with \"0\"\n",
    "dat_content2['n_days'] = dat_content2['n_days'].str.split().str[0].astype('int')\n",
    "    # Brush up, extract the number of days and change them to integer"
   ]
  },
  {
   "cell_type": "code",
   "execution_count": 43,
   "metadata": {},
   "outputs": [],
   "source": [
    "n_prep = dat_content2.loc[:, ['submit_date','start_date','n_days']]"
   ]
  },
  {
   "cell_type": "code",
   "execution_count": 44,
   "metadata": {},
   "outputs": [],
   "source": [
    "mean = n_prep['n_days'].mean()"
   ]
  },
  {
   "cell_type": "code",
   "execution_count": 101,
   "metadata": {},
   "outputs": [
    {
     "data": {
      "image/png": "[encoded data removed]",
      "text/plain": [
       "<Figure size 640x480 with 1 Axes>"
      ]
     },
     "metadata": {},
     "output_type": "display_data"
    },
    {
     "data": {
      "text/plain": [
       "<ggplot: (8794550714757)>"
      ]
     },
     "execution_count": 101,
     "metadata": {},
     "output_type": "execute_result"
    }
   ],
   "source": [
    "(\n",
    "    ggplot(n_prep, aes('n_days'))+\n",
    "    geom_histogram()+\n",
    "    xlim(0,200)+\n",
    "    geom_vline(xintercept = mean, color ='#9F82C0')+\n",
    "    theme_bw()+\n",
    "    labs(title = \"Distribution of H-1B preparation days\",\n",
    "     x = 'Number of days between start date and submit date (source:h1bdata.info)',\n",
    "     y = 'Count')\n",
    ")"
   ]
  },
  {
   "cell_type": "markdown",
   "metadata": {},
   "source": [
    "### 4.What positions have the highest median salaries among certified LCAs\n",
    "- Not specifying applicant number?\n",
    "- applicants >10?"
   ]
  },
  {
   "cell_type": "code",
   "execution_count": 46,
   "metadata": {},
   "outputs": [],
   "source": [
    "certified_LCA = dat_content2[dat_content2['case_status']=='CERTIFIED']"
   ]
  },
  {
   "cell_type": "code",
   "execution_count": 47,
   "metadata": {},
   "outputs": [
    {
     "data": {
      "text/html": [
       "<div>\n",
       "<style scoped>\n",
       "    .dataframe tbody tr th:only-of-type {\n",
       "        vertical-align: middle;\n",
       "    }\n",
       "\n",
       "    .dataframe tbody tr th {\n",
       "        vertical-align: top;\n",
       "    }\n",
       "\n",
       "    .dataframe thead th {\n",
       "        text-align: right;\n",
       "    }\n",
       "</style>\n",
       "<table border=\"1\" class=\"dataframe\">\n",
       "  <thead>\n",
       "    <tr style=\"text-align: right;\">\n",
       "      <th></th>\n",
       "      <th>employer</th>\n",
       "      <th>base_salary</th>\n",
       "      <th>location</th>\n",
       "      <th>submit_date</th>\n",
       "      <th>start_date</th>\n",
       "      <th>case_status</th>\n",
       "      <th>city</th>\n",
       "      <th>job_title_clean</th>\n",
       "      <th>n_days</th>\n",
       "    </tr>\n",
       "  </thead>\n",
       "  <tbody>\n",
       "    <tr>\n",
       "      <th>0</th>\n",
       "      <td>BARCLAYS SERVICES CORP</td>\n",
       "      <td>125000</td>\n",
       "      <td>NEW YORK, NY</td>\n",
       "      <td>2018-06-13</td>\n",
       "      <td>2018-07-02</td>\n",
       "      <td>CERTIFIED</td>\n",
       "      <td>NEW YORK</td>\n",
       "      <td>NET QLIK DEVELOPER SYSTEMS ENGINEER</td>\n",
       "      <td>20</td>\n",
       "    </tr>\n",
       "    <tr>\n",
       "      <th>2</th>\n",
       "      <td>VLINKINC</td>\n",
       "      <td>85000</td>\n",
       "      <td>NEW YORK, NY</td>\n",
       "      <td>2018-12-20</td>\n",
       "      <td>2019-01-03</td>\n",
       "      <td>CERTIFIED</td>\n",
       "      <td>NEW YORK</td>\n",
       "      <td>NET ARCHITECT</td>\n",
       "      <td>15</td>\n",
       "    </tr>\n",
       "    <tr>\n",
       "      <th>3</th>\n",
       "      <td>DIGITAL SCRIPTS INC</td>\n",
       "      <td>92700</td>\n",
       "      <td>NEW YORK, NY</td>\n",
       "      <td>2018-11-12</td>\n",
       "      <td>2018-12-28</td>\n",
       "      <td>CERTIFIED</td>\n",
       "      <td>NEW YORK</td>\n",
       "      <td>NET DEVELOPER</td>\n",
       "      <td>47</td>\n",
       "    </tr>\n",
       "    <tr>\n",
       "      <th>4</th>\n",
       "      <td>DIGITAL SCRIPTS INC</td>\n",
       "      <td>92800</td>\n",
       "      <td>NEW YORK, NY</td>\n",
       "      <td>2018-08-30</td>\n",
       "      <td>2018-12-28</td>\n",
       "      <td>CERTIFIED</td>\n",
       "      <td>NEW YORK</td>\n",
       "      <td>NET DEVELOPER</td>\n",
       "      <td>121</td>\n",
       "    </tr>\n",
       "    <tr>\n",
       "      <th>6</th>\n",
       "      <td>POPULUS GROUP LLC</td>\n",
       "      <td>144000</td>\n",
       "      <td>NEW YORK, NY</td>\n",
       "      <td>2018-07-02</td>\n",
       "      <td>2018-07-23</td>\n",
       "      <td>CERTIFIED</td>\n",
       "      <td>NEW YORK</td>\n",
       "      <td>NET DEVELOPER</td>\n",
       "      <td>22</td>\n",
       "    </tr>\n",
       "    <tr>\n",
       "      <th>...</th>\n",
       "      <td>...</td>\n",
       "      <td>...</td>\n",
       "      <td>...</td>\n",
       "      <td>...</td>\n",
       "      <td>...</td>\n",
       "      <td>...</td>\n",
       "      <td>...</td>\n",
       "      <td>...</td>\n",
       "      <td>...</td>\n",
       "    </tr>\n",
       "    <tr>\n",
       "      <th>1693</th>\n",
       "      <td>ENTREGA SYSTEMS GROUP INC</td>\n",
       "      <td>62000</td>\n",
       "      <td>TROY, MI</td>\n",
       "      <td>2018-03-30</td>\n",
       "      <td>2018-09-08</td>\n",
       "      <td>CERTIFIED</td>\n",
       "      <td>TROY</td>\n",
       "      <td>WEB APPLICATION DEVELOPER</td>\n",
       "      <td>163</td>\n",
       "    </tr>\n",
       "    <tr>\n",
       "      <th>1694</th>\n",
       "      <td>BROADGATE INC</td>\n",
       "      <td>60000</td>\n",
       "      <td>TROY, MI</td>\n",
       "      <td>2018-02-20</td>\n",
       "      <td>2018-03-01</td>\n",
       "      <td>CERTIFIED</td>\n",
       "      <td>TROY</td>\n",
       "      <td>WEB DEVELOPER</td>\n",
       "      <td>10</td>\n",
       "    </tr>\n",
       "    <tr>\n",
       "      <th>1695</th>\n",
       "      <td>ELIX INC</td>\n",
       "      <td>71635</td>\n",
       "      <td>TROY, MI</td>\n",
       "      <td>2018-03-30</td>\n",
       "      <td>2018-09-28</td>\n",
       "      <td>CERTIFIED</td>\n",
       "      <td>TROY</td>\n",
       "      <td>WEB DEVELOPER</td>\n",
       "      <td>183</td>\n",
       "    </tr>\n",
       "    <tr>\n",
       "      <th>1696</th>\n",
       "      <td>PRECISION TECHNOLOGIES CORP</td>\n",
       "      <td>61420</td>\n",
       "      <td>TROY, NY</td>\n",
       "      <td>2018-04-17</td>\n",
       "      <td>2018-04-17</td>\n",
       "      <td>CERTIFIED</td>\n",
       "      <td>TROY</td>\n",
       "      <td>WINDOWS ADMINISTRATOR</td>\n",
       "      <td>1</td>\n",
       "    </tr>\n",
       "    <tr>\n",
       "      <th>1697</th>\n",
       "      <td>WEBASTO ROOF SYSTEMS INC</td>\n",
       "      <td>100693</td>\n",
       "      <td>TROY, MI</td>\n",
       "      <td>2018-09-20</td>\n",
       "      <td>2018-10-01</td>\n",
       "      <td>CERTIFIED</td>\n",
       "      <td>TROY</td>\n",
       "      <td>WPS MANAGER</td>\n",
       "      <td>12</td>\n",
       "    </tr>\n",
       "  </tbody>\n",
       "</table>\n",
       "<p>277547 rows × 9 columns</p>\n",
       "</div>"
      ],
      "text/plain": [
       "                         employer  base_salary      location submit_date  \\\n",
       "0          BARCLAYS SERVICES CORP       125000  NEW YORK, NY  2018-06-13   \n",
       "2                        VLINKINC        85000  NEW YORK, NY  2018-12-20   \n",
       "3             DIGITAL SCRIPTS INC        92700  NEW YORK, NY  2018-11-12   \n",
       "4             DIGITAL SCRIPTS INC        92800  NEW YORK, NY  2018-08-30   \n",
       "6               POPULUS GROUP LLC       144000  NEW YORK, NY  2018-07-02   \n",
       "...                           ...          ...           ...         ...   \n",
       "1693    ENTREGA SYSTEMS GROUP INC        62000      TROY, MI  2018-03-30   \n",
       "1694                BROADGATE INC        60000      TROY, MI  2018-02-20   \n",
       "1695                     ELIX INC        71635      TROY, MI  2018-03-30   \n",
       "1696  PRECISION TECHNOLOGIES CORP        61420      TROY, NY  2018-04-17   \n",
       "1697     WEBASTO ROOF SYSTEMS INC       100693      TROY, MI  2018-09-20   \n",
       "\n",
       "     start_date case_status      city                      job_title_clean  \\\n",
       "0    2018-07-02   CERTIFIED  NEW YORK  NET QLIK DEVELOPER SYSTEMS ENGINEER   \n",
       "2    2019-01-03   CERTIFIED  NEW YORK                        NET ARCHITECT   \n",
       "3    2018-12-28   CERTIFIED  NEW YORK                        NET DEVELOPER   \n",
       "4    2018-12-28   CERTIFIED  NEW YORK                        NET DEVELOPER   \n",
       "6    2018-07-23   CERTIFIED  NEW YORK                        NET DEVELOPER   \n",
       "...         ...         ...       ...                                  ...   \n",
       "1693 2018-09-08   CERTIFIED      TROY            WEB APPLICATION DEVELOPER   \n",
       "1694 2018-03-01   CERTIFIED      TROY                        WEB DEVELOPER   \n",
       "1695 2018-09-28   CERTIFIED      TROY                        WEB DEVELOPER   \n",
       "1696 2018-04-17   CERTIFIED      TROY                WINDOWS ADMINISTRATOR   \n",
       "1697 2018-10-01   CERTIFIED      TROY                          WPS MANAGER   \n",
       "\n",
       "      n_days  \n",
       "0         20  \n",
       "2         15  \n",
       "3         47  \n",
       "4        121  \n",
       "6         22  \n",
       "...      ...  \n",
       "1693     163  \n",
       "1694      10  \n",
       "1695     183  \n",
       "1696       1  \n",
       "1697      12  \n",
       "\n",
       "[277547 rows x 9 columns]"
      ]
     },
     "execution_count": 47,
     "metadata": {},
     "output_type": "execute_result"
    }
   ],
   "source": [
    "certified_LCA"
   ]
  },
  {
   "cell_type": "markdown",
   "metadata": {},
   "source": [
    "#### Not specifying applicant numebr"
   ]
  },
  {
   "cell_type": "code",
   "execution_count": 48,
   "metadata": {},
   "outputs": [
    {
     "data": {
      "text/html": [
       "<div>\n",
       "<style scoped>\n",
       "    .dataframe tbody tr th:only-of-type {\n",
       "        vertical-align: middle;\n",
       "    }\n",
       "\n",
       "    .dataframe tbody tr th {\n",
       "        vertical-align: top;\n",
       "    }\n",
       "\n",
       "    .dataframe thead th {\n",
       "        text-align: right;\n",
       "    }\n",
       "</style>\n",
       "<table border=\"1\" class=\"dataframe\">\n",
       "  <thead>\n",
       "    <tr style=\"text-align: right;\">\n",
       "      <th></th>\n",
       "      <th>count</th>\n",
       "    </tr>\n",
       "  </thead>\n",
       "  <tbody>\n",
       "    <tr>\n",
       "      <th>count</th>\n",
       "      <td>46222.000000</td>\n",
       "    </tr>\n",
       "    <tr>\n",
       "      <th>mean</th>\n",
       "      <td>6.004651</td>\n",
       "    </tr>\n",
       "    <tr>\n",
       "      <th>std</th>\n",
       "      <td>126.645209</td>\n",
       "    </tr>\n",
       "    <tr>\n",
       "      <th>min</th>\n",
       "      <td>1.000000</td>\n",
       "    </tr>\n",
       "    <tr>\n",
       "      <th>25%</th>\n",
       "      <td>1.000000</td>\n",
       "    </tr>\n",
       "    <tr>\n",
       "      <th>50%</th>\n",
       "      <td>1.000000</td>\n",
       "    </tr>\n",
       "    <tr>\n",
       "      <th>75%</th>\n",
       "      <td>2.000000</td>\n",
       "    </tr>\n",
       "    <tr>\n",
       "      <th>max</th>\n",
       "      <td>19640.000000</td>\n",
       "    </tr>\n",
       "  </tbody>\n",
       "</table>\n",
       "</div>"
      ],
      "text/plain": [
       "              count\n",
       "count  46222.000000\n",
       "mean       6.004651\n",
       "std      126.645209\n",
       "min        1.000000\n",
       "25%        1.000000\n",
       "50%        1.000000\n",
       "75%        2.000000\n",
       "max    19640.000000"
      ]
     },
     "execution_count": 48,
     "metadata": {},
     "output_type": "execute_result"
    }
   ],
   "source": [
    "count = (certified_LCA\n",
    " .groupby('job_title_clean')\n",
    " .size()\n",
    " .reset_index()\n",
    " .rename(columns = {0: 'count'})\n",
    " .reset_index(drop=True)\n",
    ")\n",
    "count.describe()"
   ]
  },
  {
   "cell_type": "code",
   "execution_count": 49,
   "metadata": {
    "scrolled": false
   },
   "outputs": [
    {
     "data": {
      "text/html": [
       "<div>\n",
       "<style scoped>\n",
       "    .dataframe tbody tr th:only-of-type {\n",
       "        vertical-align: middle;\n",
       "    }\n",
       "\n",
       "    .dataframe tbody tr th {\n",
       "        vertical-align: top;\n",
       "    }\n",
       "\n",
       "    .dataframe thead th {\n",
       "        text-align: right;\n",
       "    }\n",
       "</style>\n",
       "<table border=\"1\" class=\"dataframe\">\n",
       "  <thead>\n",
       "    <tr style=\"text-align: right;\">\n",
       "      <th></th>\n",
       "      <th>job_title_clean</th>\n",
       "      <th>median_base_salary</th>\n",
       "    </tr>\n",
       "  </thead>\n",
       "  <tbody>\n",
       "    <tr>\n",
       "      <th>0</th>\n",
       "      <td>ASSOCIATE PRODUCT DEVELOPMENT MANAGER</td>\n",
       "      <td>63500.0</td>\n",
       "    </tr>\n",
       "    <tr>\n",
       "      <th>1</th>\n",
       "      <td>INFORMATION TECHNOLOGY ANALYST</td>\n",
       "      <td>93000.0</td>\n",
       "    </tr>\n",
       "    <tr>\n",
       "      <th>2</th>\n",
       "      <td>NET DEVELOPER</td>\n",
       "      <td>91000.0</td>\n",
       "    </tr>\n",
       "    <tr>\n",
       "      <th>3</th>\n",
       "      <td>09 01 2018</td>\n",
       "      <td>96500.0</td>\n",
       "    </tr>\n",
       "    <tr>\n",
       "      <th>4</th>\n",
       "      <td>1</td>\n",
       "      <td>85925.0</td>\n",
       "    </tr>\n",
       "    <tr>\n",
       "      <th>...</th>\n",
       "      <td>...</td>\n",
       "      <td>...</td>\n",
       "    </tr>\n",
       "    <tr>\n",
       "      <th>46217</th>\n",
       "      <td>YIELD OPTIMIZATION ASSOCIATE</td>\n",
       "      <td>63336.0</td>\n",
       "    </tr>\n",
       "    <tr>\n",
       "      <th>46218</th>\n",
       "      <td>YOUNG INVESTIGATOR</td>\n",
       "      <td>5962.0</td>\n",
       "    </tr>\n",
       "    <tr>\n",
       "      <th>46219</th>\n",
       "      <td>YOUNG PROFESSIONALS COORDINATOR</td>\n",
       "      <td>63003.0</td>\n",
       "    </tr>\n",
       "    <tr>\n",
       "      <th>46220</th>\n",
       "      <td>YOUTH DEVELOPMENT PROGRAM COORDINATOR</td>\n",
       "      <td>39460.0</td>\n",
       "    </tr>\n",
       "    <tr>\n",
       "      <th>46221</th>\n",
       "      <td>ZERO INVENTORY PROJECT ZIP ANALYST</td>\n",
       "      <td>61100.0</td>\n",
       "    </tr>\n",
       "  </tbody>\n",
       "</table>\n",
       "<p>46222 rows × 2 columns</p>\n",
       "</div>"
      ],
      "text/plain": [
       "                              job_title_clean  median_base_salary\n",
       "0       ASSOCIATE PRODUCT DEVELOPMENT MANAGER             63500.0\n",
       "1              INFORMATION TECHNOLOGY ANALYST             93000.0\n",
       "2                               NET DEVELOPER             91000.0\n",
       "3                                  09 01 2018             96500.0\n",
       "4                                           1             85925.0\n",
       "...                                       ...                 ...\n",
       "46217            YIELD OPTIMIZATION ASSOCIATE             63336.0\n",
       "46218                      YOUNG INVESTIGATOR              5962.0\n",
       "46219         YOUNG PROFESSIONALS COORDINATOR             63003.0\n",
       "46220   YOUTH DEVELOPMENT PROGRAM COORDINATOR             39460.0\n",
       "46221      ZERO INVENTORY PROJECT ZIP ANALYST             61100.0\n",
       "\n",
       "[46222 rows x 2 columns]"
      ]
     },
     "execution_count": 49,
     "metadata": {},
     "output_type": "execute_result"
    }
   ],
   "source": [
    "median_salary = (certified_LCA\n",
    " .groupby('job_title_clean')\n",
    " .base_salary\n",
    " .median()\n",
    " .reset_index()\n",
    " .rename(columns = {'base_salary': 'median_base_salary'})                \n",
    ")\n",
    "median_salary"
   ]
  },
  {
   "cell_type": "code",
   "execution_count": 50,
   "metadata": {},
   "outputs": [],
   "source": [
    "certified_all = pd.merge(left = count,\n",
    "         right = median_salary,\n",
    "         how = \"inner\",      # The type of join\n",
    "         on = \"job_title_clean\") "
   ]
  },
  {
   "cell_type": "code",
   "execution_count": 105,
   "metadata": {},
   "outputs": [
    {
     "data": {
      "text/html": [
       "<div>\n",
       "<style scoped>\n",
       "    .dataframe tbody tr th:only-of-type {\n",
       "        vertical-align: middle;\n",
       "    }\n",
       "\n",
       "    .dataframe tbody tr th {\n",
       "        vertical-align: top;\n",
       "    }\n",
       "\n",
       "    .dataframe thead th {\n",
       "        text-align: right;\n",
       "    }\n",
       "</style>\n",
       "<table border=\"1\" class=\"dataframe\">\n",
       "  <thead>\n",
       "    <tr style=\"text-align: right;\">\n",
       "      <th></th>\n",
       "      <th>job_title_clean</th>\n",
       "      <th>count</th>\n",
       "      <th>median_base_salary</th>\n",
       "    </tr>\n",
       "  </thead>\n",
       "  <tbody>\n",
       "    <tr>\n",
       "      <th>0</th>\n",
       "      <td>CHIEF INVESTMENT OFFICER SOC</td>\n",
       "      <td>1</td>\n",
       "      <td>2134381.0</td>\n",
       "    </tr>\n",
       "    <tr>\n",
       "      <th>1</th>\n",
       "      <td>PRESIDENT CEO</td>\n",
       "      <td>1</td>\n",
       "      <td>1900000.0</td>\n",
       "    </tr>\n",
       "    <tr>\n",
       "      <th>2</th>\n",
       "      <td>CHAIRMAN PRESIDENT AND CHIEF EXECUTIVE OFFICER</td>\n",
       "      <td>1</td>\n",
       "      <td>1100000.0</td>\n",
       "    </tr>\n",
       "    <tr>\n",
       "      <th>3</th>\n",
       "      <td>PRESIDENT REAL ESTATE  CHIEF CORPORATE DEVELOP...</td>\n",
       "      <td>1</td>\n",
       "      <td>1000000.0</td>\n",
       "    </tr>\n",
       "    <tr>\n",
       "      <th>4</th>\n",
       "      <td>CHIEF FINANCIAL OFFICER AND PARTNER</td>\n",
       "      <td>1</td>\n",
       "      <td>992250.0</td>\n",
       "    </tr>\n",
       "    <tr>\n",
       "      <th>5</th>\n",
       "      <td>KFC GLOBAL CEO</td>\n",
       "      <td>1</td>\n",
       "      <td>850000.0</td>\n",
       "    </tr>\n",
       "    <tr>\n",
       "      <th>6</th>\n",
       "      <td>GLOBAL CHIEF MARKETING OFFICER</td>\n",
       "      <td>1</td>\n",
       "      <td>785000.0</td>\n",
       "    </tr>\n",
       "    <tr>\n",
       "      <th>7</th>\n",
       "      <td>EXECUTIVE VICE PRESIDENT CORPORATE MARKETING</td>\n",
       "      <td>1</td>\n",
       "      <td>700000.0</td>\n",
       "    </tr>\n",
       "    <tr>\n",
       "      <th>8</th>\n",
       "      <td>CHIEF SERVICES OFFICER</td>\n",
       "      <td>1</td>\n",
       "      <td>675000.0</td>\n",
       "    </tr>\n",
       "    <tr>\n",
       "      <th>9</th>\n",
       "      <td>SURGEON RESEARCHER</td>\n",
       "      <td>1</td>\n",
       "      <td>670000.0</td>\n",
       "    </tr>\n",
       "    <tr>\n",
       "      <th>10</th>\n",
       "      <td>GPC PARTNER</td>\n",
       "      <td>1</td>\n",
       "      <td>650000.0</td>\n",
       "    </tr>\n",
       "    <tr>\n",
       "      <th>11</th>\n",
       "      <td>PROFESSOR OF PEDIATRICS CLINICAL SCHOLAR</td>\n",
       "      <td>1</td>\n",
       "      <td>610000.0</td>\n",
       "    </tr>\n",
       "    <tr>\n",
       "      <th>12</th>\n",
       "      <td>ADVISORY PRINCIPAL</td>\n",
       "      <td>1</td>\n",
       "      <td>600000.0</td>\n",
       "    </tr>\n",
       "    <tr>\n",
       "      <th>13</th>\n",
       "      <td>PRESIDENT AND GM STUDIO OPERATIONS</td>\n",
       "      <td>2</td>\n",
       "      <td>600000.0</td>\n",
       "    </tr>\n",
       "    <tr>\n",
       "      <th>14</th>\n",
       "      <td>ADVISROY PRINCIPAL</td>\n",
       "      <td>1</td>\n",
       "      <td>600000.0</td>\n",
       "    </tr>\n",
       "    <tr>\n",
       "      <th>15</th>\n",
       "      <td>COHEAD OF TRADING</td>\n",
       "      <td>1</td>\n",
       "      <td>576000.0</td>\n",
       "    </tr>\n",
       "    <tr>\n",
       "      <th>16</th>\n",
       "      <td>DISTINGUISHED RESEARCH SCIENTIST</td>\n",
       "      <td>1</td>\n",
       "      <td>557680.0</td>\n",
       "    </tr>\n",
       "    <tr>\n",
       "      <th>17</th>\n",
       "      <td>ASSOCIATE PROFESSOR OF ORTHOPEDIC SURGERY</td>\n",
       "      <td>1</td>\n",
       "      <td>550000.0</td>\n",
       "    </tr>\n",
       "    <tr>\n",
       "      <th>18</th>\n",
       "      <td>TAX PARTNER</td>\n",
       "      <td>1</td>\n",
       "      <td>542000.0</td>\n",
       "    </tr>\n",
       "    <tr>\n",
       "      <th>19</th>\n",
       "      <td>CHIEF OPERATING OFFICER ASSISTANCE SERVICES WO...</td>\n",
       "      <td>1</td>\n",
       "      <td>541200.0</td>\n",
       "    </tr>\n",
       "    <tr>\n",
       "      <th>20</th>\n",
       "      <td>VP OF VR</td>\n",
       "      <td>1</td>\n",
       "      <td>525000.0</td>\n",
       "    </tr>\n",
       "    <tr>\n",
       "      <th>21</th>\n",
       "      <td>PROFESSOR AND DIRECTOR OF PEDIATRIC HEPATOLOGY</td>\n",
       "      <td>1</td>\n",
       "      <td>520840.0</td>\n",
       "    </tr>\n",
       "    <tr>\n",
       "      <th>22</th>\n",
       "      <td>GASTROENTEROLOGIST</td>\n",
       "      <td>6</td>\n",
       "      <td>510000.0</td>\n",
       "    </tr>\n",
       "    <tr>\n",
       "      <th>23</th>\n",
       "      <td>ASSISTANT PROFESSOR OF CLINICAL NEUROSURGERY</td>\n",
       "      <td>1</td>\n",
       "      <td>506000.0</td>\n",
       "    </tr>\n",
       "    <tr>\n",
       "      <th>24</th>\n",
       "      <td>IT TRANSFORMATION MANAGER 5</td>\n",
       "      <td>1</td>\n",
       "      <td>500000.0</td>\n",
       "    </tr>\n",
       "    <tr>\n",
       "      <th>25</th>\n",
       "      <td>EXECUTIVE DIRECTOR OF ATHLETIC PERFORMANCE AND...</td>\n",
       "      <td>1</td>\n",
       "      <td>500000.0</td>\n",
       "    </tr>\n",
       "    <tr>\n",
       "      <th>26</th>\n",
       "      <td>SPECIALIST ORAL SURGEON</td>\n",
       "      <td>1</td>\n",
       "      <td>500000.0</td>\n",
       "    </tr>\n",
       "    <tr>\n",
       "      <th>27</th>\n",
       "      <td>HEAD OF COMMODITIES</td>\n",
       "      <td>1</td>\n",
       "      <td>500000.0</td>\n",
       "    </tr>\n",
       "    <tr>\n",
       "      <th>28</th>\n",
       "      <td>MANAGING DIRECTOR HUMAN RESOURCES</td>\n",
       "      <td>1</td>\n",
       "      <td>500000.0</td>\n",
       "    </tr>\n",
       "    <tr>\n",
       "      <th>29</th>\n",
       "      <td>GLOBAL CHIEF TALENT OFFICER</td>\n",
       "      <td>1</td>\n",
       "      <td>480000.0</td>\n",
       "    </tr>\n",
       "  </tbody>\n",
       "</table>\n",
       "</div>"
      ],
      "text/plain": [
       "                                      job_title_clean  count  \\\n",
       "0                        CHIEF INVESTMENT OFFICER SOC      1   \n",
       "1                                       PRESIDENT CEO      1   \n",
       "2      CHAIRMAN PRESIDENT AND CHIEF EXECUTIVE OFFICER      1   \n",
       "3   PRESIDENT REAL ESTATE  CHIEF CORPORATE DEVELOP...      1   \n",
       "4                 CHIEF FINANCIAL OFFICER AND PARTNER      1   \n",
       "5                                      KFC GLOBAL CEO      1   \n",
       "6                      GLOBAL CHIEF MARKETING OFFICER      1   \n",
       "7        EXECUTIVE VICE PRESIDENT CORPORATE MARKETING      1   \n",
       "8                              CHIEF SERVICES OFFICER      1   \n",
       "9                                  SURGEON RESEARCHER      1   \n",
       "10                                        GPC PARTNER      1   \n",
       "11           PROFESSOR OF PEDIATRICS CLINICAL SCHOLAR      1   \n",
       "12                                 ADVISORY PRINCIPAL      1   \n",
       "13                 PRESIDENT AND GM STUDIO OPERATIONS      2   \n",
       "14                                 ADVISROY PRINCIPAL      1   \n",
       "15                                  COHEAD OF TRADING      1   \n",
       "16                   DISTINGUISHED RESEARCH SCIENTIST      1   \n",
       "17          ASSOCIATE PROFESSOR OF ORTHOPEDIC SURGERY      1   \n",
       "18                                        TAX PARTNER      1   \n",
       "19  CHIEF OPERATING OFFICER ASSISTANCE SERVICES WO...      1   \n",
       "20                                           VP OF VR      1   \n",
       "21     PROFESSOR AND DIRECTOR OF PEDIATRIC HEPATOLOGY      1   \n",
       "22                                 GASTROENTEROLOGIST      6   \n",
       "23       ASSISTANT PROFESSOR OF CLINICAL NEUROSURGERY      1   \n",
       "24                        IT TRANSFORMATION MANAGER 5      1   \n",
       "25  EXECUTIVE DIRECTOR OF ATHLETIC PERFORMANCE AND...      1   \n",
       "26                            SPECIALIST ORAL SURGEON      1   \n",
       "27                                HEAD OF COMMODITIES      1   \n",
       "28                  MANAGING DIRECTOR HUMAN RESOURCES      1   \n",
       "29                        GLOBAL CHIEF TALENT OFFICER      1   \n",
       "\n",
       "    median_base_salary  \n",
       "0            2134381.0  \n",
       "1            1900000.0  \n",
       "2            1100000.0  \n",
       "3            1000000.0  \n",
       "4             992250.0  \n",
       "5             850000.0  \n",
       "6             785000.0  \n",
       "7             700000.0  \n",
       "8             675000.0  \n",
       "9             670000.0  \n",
       "10            650000.0  \n",
       "11            610000.0  \n",
       "12            600000.0  \n",
       "13            600000.0  \n",
       "14            600000.0  \n",
       "15            576000.0  \n",
       "16            557680.0  \n",
       "17            550000.0  \n",
       "18            542000.0  \n",
       "19            541200.0  \n",
       "20            525000.0  \n",
       "21            520840.0  \n",
       "22            510000.0  \n",
       "23            506000.0  \n",
       "24            500000.0  \n",
       "25            500000.0  \n",
       "26            500000.0  \n",
       "27            500000.0  \n",
       "28            500000.0  \n",
       "29            480000.0  "
      ]
     },
     "execution_count": 105,
     "metadata": {},
     "output_type": "execute_result"
    }
   ],
   "source": [
    "certified_all.sort_values('median_base_salary', ascending= False).head(30).reset_index(drop = True)"
   ]
  },
  {
   "cell_type": "markdown",
   "metadata": {},
   "source": [
    "#### Applicants > 10"
   ]
  },
  {
   "cell_type": "code",
   "execution_count": 52,
   "metadata": {},
   "outputs": [
    {
     "data": {
      "text/html": [
       "<div>\n",
       "<style scoped>\n",
       "    .dataframe tbody tr th:only-of-type {\n",
       "        vertical-align: middle;\n",
       "    }\n",
       "\n",
       "    .dataframe tbody tr th {\n",
       "        vertical-align: top;\n",
       "    }\n",
       "\n",
       "    .dataframe thead th {\n",
       "        text-align: right;\n",
       "    }\n",
       "</style>\n",
       "<table border=\"1\" class=\"dataframe\">\n",
       "  <thead>\n",
       "    <tr style=\"text-align: right;\">\n",
       "      <th></th>\n",
       "      <th>count</th>\n",
       "    </tr>\n",
       "  </thead>\n",
       "  <tbody>\n",
       "    <tr>\n",
       "      <th>count</th>\n",
       "      <td>2002.000000</td>\n",
       "    </tr>\n",
       "    <tr>\n",
       "      <th>mean</th>\n",
       "      <td>102.438561</td>\n",
       "    </tr>\n",
       "    <tr>\n",
       "      <th>std</th>\n",
       "      <td>600.594033</td>\n",
       "    </tr>\n",
       "    <tr>\n",
       "      <th>min</th>\n",
       "      <td>11.000000</td>\n",
       "    </tr>\n",
       "    <tr>\n",
       "      <th>25%</th>\n",
       "      <td>15.000000</td>\n",
       "    </tr>\n",
       "    <tr>\n",
       "      <th>50%</th>\n",
       "      <td>24.000000</td>\n",
       "    </tr>\n",
       "    <tr>\n",
       "      <th>75%</th>\n",
       "      <td>54.000000</td>\n",
       "    </tr>\n",
       "    <tr>\n",
       "      <th>max</th>\n",
       "      <td>19640.000000</td>\n",
       "    </tr>\n",
       "  </tbody>\n",
       "</table>\n",
       "</div>"
      ],
      "text/plain": [
       "              count\n",
       "count   2002.000000\n",
       "mean     102.438561\n",
       "std      600.594033\n",
       "min       11.000000\n",
       "25%       15.000000\n",
       "50%       24.000000\n",
       "75%       54.000000\n",
       "max    19640.000000"
      ]
     },
     "execution_count": 52,
     "metadata": {},
     "output_type": "execute_result"
    }
   ],
   "source": [
    "count_greater_10 = (certified_LCA\n",
    " .groupby('job_title_clean')\n",
    " .size()\n",
    " .reset_index()\n",
    " .rename(columns = {0: 'count'})\n",
    " .query('count > 10')\n",
    " .reset_index(drop=True)\n",
    ")\n",
    "count_greater_10.describe()"
   ]
  },
  {
   "cell_type": "code",
   "execution_count": 53,
   "metadata": {},
   "outputs": [],
   "source": [
    "certified_greater10 = pd.merge(left = count_greater_10,\n",
    "         right = median_salary,\n",
    "         how = \"inner\",      # The type of join\n",
    "         on = \"job_title_clean\") "
   ]
  },
  {
   "cell_type": "code",
   "execution_count": 54,
   "metadata": {},
   "outputs": [
    {
     "data": {
      "text/html": [
       "<div>\n",
       "<style scoped>\n",
       "    .dataframe tbody tr th:only-of-type {\n",
       "        vertical-align: middle;\n",
       "    }\n",
       "\n",
       "    .dataframe tbody tr th {\n",
       "        vertical-align: top;\n",
       "    }\n",
       "\n",
       "    .dataframe thead th {\n",
       "        text-align: right;\n",
       "    }\n",
       "</style>\n",
       "<table border=\"1\" class=\"dataframe\">\n",
       "  <thead>\n",
       "    <tr style=\"text-align: right;\">\n",
       "      <th></th>\n",
       "      <th>job_title_clean</th>\n",
       "      <th>count</th>\n",
       "      <th>median_base_salary</th>\n",
       "    </tr>\n",
       "  </thead>\n",
       "  <tbody>\n",
       "    <tr>\n",
       "      <th>0</th>\n",
       "      <td>3D ARTIST</td>\n",
       "      <td>14</td>\n",
       "      <td>60500.0</td>\n",
       "    </tr>\n",
       "    <tr>\n",
       "      <th>1</th>\n",
       "      <td>AB INITIO DEVELOPER</td>\n",
       "      <td>11</td>\n",
       "      <td>84240.0</td>\n",
       "    </tr>\n",
       "    <tr>\n",
       "      <th>2</th>\n",
       "      <td>ABINITIO DEVELOPER</td>\n",
       "      <td>11</td>\n",
       "      <td>89000.0</td>\n",
       "    </tr>\n",
       "    <tr>\n",
       "      <th>3</th>\n",
       "      <td>ACCOUNT DIRECTOR</td>\n",
       "      <td>20</td>\n",
       "      <td>128981.0</td>\n",
       "    </tr>\n",
       "    <tr>\n",
       "      <th>4</th>\n",
       "      <td>ACCOUNT EXECUTIVE</td>\n",
       "      <td>58</td>\n",
       "      <td>63385.5</td>\n",
       "    </tr>\n",
       "    <tr>\n",
       "      <th>...</th>\n",
       "      <td>...</td>\n",
       "      <td>...</td>\n",
       "      <td>...</td>\n",
       "    </tr>\n",
       "    <tr>\n",
       "      <th>1997</th>\n",
       "      <td>WEB DEVELOPMENT ENGINEER I</td>\n",
       "      <td>14</td>\n",
       "      <td>112500.0</td>\n",
       "    </tr>\n",
       "    <tr>\n",
       "      <th>1998</th>\n",
       "      <td>WEB DEVELOPMENT ENGINEER II</td>\n",
       "      <td>21</td>\n",
       "      <td>117000.0</td>\n",
       "    </tr>\n",
       "    <tr>\n",
       "      <th>1999</th>\n",
       "      <td>WEB ENGINEER</td>\n",
       "      <td>12</td>\n",
       "      <td>103834.5</td>\n",
       "    </tr>\n",
       "    <tr>\n",
       "      <th>2000</th>\n",
       "      <td>WEBLOGIC ADMINISTRATOR</td>\n",
       "      <td>12</td>\n",
       "      <td>87640.0</td>\n",
       "    </tr>\n",
       "    <tr>\n",
       "      <th>2001</th>\n",
       "      <td>WEBSPHERE ADMINISTRATOR</td>\n",
       "      <td>20</td>\n",
       "      <td>84869.5</td>\n",
       "    </tr>\n",
       "  </tbody>\n",
       "</table>\n",
       "<p>2002 rows × 3 columns</p>\n",
       "</div>"
      ],
      "text/plain": [
       "                  job_title_clean  count  median_base_salary\n",
       "0                       3D ARTIST     14             60500.0\n",
       "1             AB INITIO DEVELOPER     11             84240.0\n",
       "2              ABINITIO DEVELOPER     11             89000.0\n",
       "3                ACCOUNT DIRECTOR     20            128981.0\n",
       "4               ACCOUNT EXECUTIVE     58             63385.5\n",
       "...                           ...    ...                 ...\n",
       "1997   WEB DEVELOPMENT ENGINEER I     14            112500.0\n",
       "1998  WEB DEVELOPMENT ENGINEER II     21            117000.0\n",
       "1999                 WEB ENGINEER     12            103834.5\n",
       "2000       WEBLOGIC ADMINISTRATOR     12             87640.0\n",
       "2001      WEBSPHERE ADMINISTRATOR     20             84869.5\n",
       "\n",
       "[2002 rows x 3 columns]"
      ]
     },
     "execution_count": 54,
     "metadata": {},
     "output_type": "execute_result"
    }
   ],
   "source": [
    "certified_greater10"
   ]
  },
  {
   "cell_type": "code",
   "execution_count": 55,
   "metadata": {},
   "outputs": [
    {
     "data": {
      "text/html": [
       "<div>\n",
       "<style scoped>\n",
       "    .dataframe tbody tr th:only-of-type {\n",
       "        vertical-align: middle;\n",
       "    }\n",
       "\n",
       "    .dataframe tbody tr th {\n",
       "        vertical-align: top;\n",
       "    }\n",
       "\n",
       "    .dataframe thead th {\n",
       "        text-align: right;\n",
       "    }\n",
       "</style>\n",
       "<table border=\"1\" class=\"dataframe\">\n",
       "  <thead>\n",
       "    <tr style=\"text-align: right;\">\n",
       "      <th></th>\n",
       "      <th>job_title_clean</th>\n",
       "      <th>count</th>\n",
       "      <th>median_base_salary</th>\n",
       "    </tr>\n",
       "  </thead>\n",
       "  <tbody>\n",
       "    <tr>\n",
       "      <th>0</th>\n",
       "      <td>ADJUNCT ASSISTANT PROFESSOR</td>\n",
       "      <td>17</td>\n",
       "      <td>275000.0</td>\n",
       "    </tr>\n",
       "    <tr>\n",
       "      <th>1</th>\n",
       "      <td>ANESTHESIOLOGIST</td>\n",
       "      <td>11</td>\n",
       "      <td>272000.0</td>\n",
       "    </tr>\n",
       "    <tr>\n",
       "      <th>2</th>\n",
       "      <td>MANAGING DIRECTOR</td>\n",
       "      <td>52</td>\n",
       "      <td>240771.0</td>\n",
       "    </tr>\n",
       "    <tr>\n",
       "      <th>3</th>\n",
       "      <td>STAFF PHYSICIAN</td>\n",
       "      <td>18</td>\n",
       "      <td>240000.0</td>\n",
       "    </tr>\n",
       "    <tr>\n",
       "      <th>4</th>\n",
       "      <td>PARTNER</td>\n",
       "      <td>31</td>\n",
       "      <td>235893.0</td>\n",
       "    </tr>\n",
       "    <tr>\n",
       "      <th>5</th>\n",
       "      <td>ASSOCIATE PARTNER</td>\n",
       "      <td>13</td>\n",
       "      <td>229468.0</td>\n",
       "    </tr>\n",
       "    <tr>\n",
       "      <th>6</th>\n",
       "      <td>HOSPITALIST</td>\n",
       "      <td>79</td>\n",
       "      <td>223200.0</td>\n",
       "    </tr>\n",
       "    <tr>\n",
       "      <th>7</th>\n",
       "      <td>EXECUTIVE DIRECTOR</td>\n",
       "      <td>64</td>\n",
       "      <td>217500.0</td>\n",
       "    </tr>\n",
       "    <tr>\n",
       "      <th>8</th>\n",
       "      <td>HOSPITALIST PHYSICIAN</td>\n",
       "      <td>41</td>\n",
       "      <td>217000.0</td>\n",
       "    </tr>\n",
       "    <tr>\n",
       "      <th>9</th>\n",
       "      <td>ASSISTANT PROFESSOR OF CLINICAL</td>\n",
       "      <td>12</td>\n",
       "      <td>216500.0</td>\n",
       "    </tr>\n",
       "    <tr>\n",
       "      <th>10</th>\n",
       "      <td>PRESIDENT</td>\n",
       "      <td>24</td>\n",
       "      <td>216500.0</td>\n",
       "    </tr>\n",
       "    <tr>\n",
       "      <th>11</th>\n",
       "      <td>SR MTS SOFTWARE ENGINEER</td>\n",
       "      <td>12</td>\n",
       "      <td>214408.0</td>\n",
       "    </tr>\n",
       "    <tr>\n",
       "      <th>12</th>\n",
       "      <td>ADVISORY DIRECTOR</td>\n",
       "      <td>77</td>\n",
       "      <td>214000.0</td>\n",
       "    </tr>\n",
       "    <tr>\n",
       "      <th>13</th>\n",
       "      <td>VICE PRESIDENT INTERMEDIATE FINANCE ASSOCIATE</td>\n",
       "      <td>27</td>\n",
       "      <td>210000.0</td>\n",
       "    </tr>\n",
       "    <tr>\n",
       "      <th>14</th>\n",
       "      <td>PSYCHIATRIST</td>\n",
       "      <td>23</td>\n",
       "      <td>208000.0</td>\n",
       "    </tr>\n",
       "    <tr>\n",
       "      <th>15</th>\n",
       "      <td>VICE PRESIDENT OF ENGINEERING</td>\n",
       "      <td>12</td>\n",
       "      <td>207500.0</td>\n",
       "    </tr>\n",
       "    <tr>\n",
       "      <th>16</th>\n",
       "      <td>ASSISTANT PROFESSOR OF MEDICINE</td>\n",
       "      <td>14</td>\n",
       "      <td>207500.0</td>\n",
       "    </tr>\n",
       "    <tr>\n",
       "      <th>17</th>\n",
       "      <td>NEONATOLOGIST</td>\n",
       "      <td>14</td>\n",
       "      <td>204842.5</td>\n",
       "    </tr>\n",
       "    <tr>\n",
       "      <th>18</th>\n",
       "      <td>CHIEF EXECUTIVE OFFICER</td>\n",
       "      <td>89</td>\n",
       "      <td>200304.0</td>\n",
       "    </tr>\n",
       "    <tr>\n",
       "      <th>19</th>\n",
       "      <td>CHIEF FINANCIAL OFFICER</td>\n",
       "      <td>33</td>\n",
       "      <td>200000.0</td>\n",
       "    </tr>\n",
       "    <tr>\n",
       "      <th>20</th>\n",
       "      <td>VICE PRESIDENT TRADER II</td>\n",
       "      <td>16</td>\n",
       "      <td>200000.0</td>\n",
       "    </tr>\n",
       "    <tr>\n",
       "      <th>21</th>\n",
       "      <td>CEO</td>\n",
       "      <td>13</td>\n",
       "      <td>200000.0</td>\n",
       "    </tr>\n",
       "    <tr>\n",
       "      <th>22</th>\n",
       "      <td>NEPHROLOGIST</td>\n",
       "      <td>32</td>\n",
       "      <td>195000.0</td>\n",
       "    </tr>\n",
       "    <tr>\n",
       "      <th>23</th>\n",
       "      <td>ENGINEERING DIRECTOR</td>\n",
       "      <td>16</td>\n",
       "      <td>194000.0</td>\n",
       "    </tr>\n",
       "    <tr>\n",
       "      <th>24</th>\n",
       "      <td>SENIOR MANAGER RD</td>\n",
       "      <td>12</td>\n",
       "      <td>192500.0</td>\n",
       "    </tr>\n",
       "    <tr>\n",
       "      <th>25</th>\n",
       "      <td>TEAM LEADER</td>\n",
       "      <td>61</td>\n",
       "      <td>192000.0</td>\n",
       "    </tr>\n",
       "    <tr>\n",
       "      <th>26</th>\n",
       "      <td>PRINCIPAL PROGRAM MANAGER</td>\n",
       "      <td>39</td>\n",
       "      <td>190460.0</td>\n",
       "    </tr>\n",
       "    <tr>\n",
       "      <th>27</th>\n",
       "      <td>DIRECTOR OF PRODUCT MANAGEMENT</td>\n",
       "      <td>12</td>\n",
       "      <td>190135.0</td>\n",
       "    </tr>\n",
       "    <tr>\n",
       "      <th>28</th>\n",
       "      <td>DIRECTOR PROGRAMMER LEAD MKTS MGR</td>\n",
       "      <td>11</td>\n",
       "      <td>190000.0</td>\n",
       "    </tr>\n",
       "    <tr>\n",
       "      <th>29</th>\n",
       "      <td>PRINCIPAL SOFTWARE ENGINEERING MANAGER</td>\n",
       "      <td>37</td>\n",
       "      <td>187313.0</td>\n",
       "    </tr>\n",
       "  </tbody>\n",
       "</table>\n",
       "</div>"
      ],
      "text/plain": [
       "                                  job_title_clean  count  median_base_salary\n",
       "0                     ADJUNCT ASSISTANT PROFESSOR     17            275000.0\n",
       "1                                ANESTHESIOLOGIST     11            272000.0\n",
       "2                               MANAGING DIRECTOR     52            240771.0\n",
       "3                                 STAFF PHYSICIAN     18            240000.0\n",
       "4                                         PARTNER     31            235893.0\n",
       "5                               ASSOCIATE PARTNER     13            229468.0\n",
       "6                                     HOSPITALIST     79            223200.0\n",
       "7                              EXECUTIVE DIRECTOR     64            217500.0\n",
       "8                           HOSPITALIST PHYSICIAN     41            217000.0\n",
       "9                 ASSISTANT PROFESSOR OF CLINICAL     12            216500.0\n",
       "10                                      PRESIDENT     24            216500.0\n",
       "11                       SR MTS SOFTWARE ENGINEER     12            214408.0\n",
       "12                              ADVISORY DIRECTOR     77            214000.0\n",
       "13  VICE PRESIDENT INTERMEDIATE FINANCE ASSOCIATE     27            210000.0\n",
       "14                                   PSYCHIATRIST     23            208000.0\n",
       "15                  VICE PRESIDENT OF ENGINEERING     12            207500.0\n",
       "16                ASSISTANT PROFESSOR OF MEDICINE     14            207500.0\n",
       "17                                  NEONATOLOGIST     14            204842.5\n",
       "18                        CHIEF EXECUTIVE OFFICER     89            200304.0\n",
       "19                        CHIEF FINANCIAL OFFICER     33            200000.0\n",
       "20                       VICE PRESIDENT TRADER II     16            200000.0\n",
       "21                                            CEO     13            200000.0\n",
       "22                                   NEPHROLOGIST     32            195000.0\n",
       "23                           ENGINEERING DIRECTOR     16            194000.0\n",
       "24                              SENIOR MANAGER RD     12            192500.0\n",
       "25                                    TEAM LEADER     61            192000.0\n",
       "26                      PRINCIPAL PROGRAM MANAGER     39            190460.0\n",
       "27                 DIRECTOR OF PRODUCT MANAGEMENT     12            190135.0\n",
       "28              DIRECTOR PROGRAMMER LEAD MKTS MGR     11            190000.0\n",
       "29         PRINCIPAL SOFTWARE ENGINEERING MANAGER     37            187313.0"
      ]
     },
     "execution_count": 55,
     "metadata": {},
     "output_type": "execute_result"
    }
   ],
   "source": [
    "certified_greater10.sort_values('median_base_salary', ascending= False).head(30).reset_index(drop=True)"
   ]
  },
  {
   "attachments": {},
   "cell_type": "markdown",
   "metadata": {},
   "source": [
    "### 5. Examine the factors that are predictive of an applicant obtaining LCA certification?\n",
    "- top companies?\n",
    "- base_salary?\n",
    "- job_titles?\n",
    "- preparation time?"
   ]
  },
  {
   "cell_type": "markdown",
   "metadata": {},
   "source": [
    "#### Data Processing"
   ]
  },
  {
   "cell_type": "markdown",
   "metadata": {},
   "source": [
    "#### `top100`"
   ]
  },
  {
   "cell_type": "markdown",
   "metadata": {},
   "source": [
    "Top companies"
   ]
  },
  {
   "cell_type": "code",
   "execution_count": 56,
   "metadata": {},
   "outputs": [],
   "source": [
    "top100_list = company_summary['employer'].to_list()"
   ]
  },
  {
   "cell_type": "code",
   "execution_count": 57,
   "metadata": {},
   "outputs": [],
   "source": [
    "empin100 =[]\n",
    "for e in dat_content2['employer']:\n",
    "    empin100.append(1*(e in top100_list))\n",
    "dat_content2['top100'] = empin100"
   ]
  },
  {
   "cell_type": "code",
   "execution_count": 58,
   "metadata": {
    "scrolled": true
   },
   "outputs": [
    {
     "data": {
      "text/plain": [
       "0    177708\n",
       "1    112159\n",
       "Name: top100, dtype: int64"
      ]
     },
     "execution_count": 58,
     "metadata": {},
     "output_type": "execute_result"
    }
   ],
   "source": [
    "dat_content2.top100.value_counts()"
   ]
  },
  {
   "cell_type": "markdown",
   "metadata": {},
   "source": [
    "#### `job_popular`"
   ]
  },
  {
   "cell_type": "code",
   "execution_count": 59,
   "metadata": {},
   "outputs": [],
   "source": [
    "word_freq_dict = wordcloud.WordCloud().process_text(long_str)"
   ]
  },
  {
   "cell_type": "code",
   "execution_count": 60,
   "metadata": {},
   "outputs": [],
   "source": [
    "word_freq = pd.DataFrame(word_freq_dict.items(), columns=['word', 'frequency'])"
   ]
  },
  {
   "cell_type": "code",
   "execution_count": 61,
   "metadata": {},
   "outputs": [],
   "source": [
    "popular10_list = (word_freq\n",
    "                  .sort_values('frequency', ascending = False)\n",
    "                  .head(10)\n",
    "                  .word\n",
    "                  .to_list()\n",
    "                 )"
   ]
  },
  {
   "cell_type": "code",
   "execution_count": 62,
   "metadata": {},
   "outputs": [
    {
     "data": {
      "text/plain": [
       "['ENGINEER',\n",
       " 'ANALYST',\n",
       " 'MANAGER',\n",
       " 'SYSTEM',\n",
       " 'DATA',\n",
       " 'SOFTWARE',\n",
       " 'APPLICATION',\n",
       " 'DEVELOPER',\n",
       " 'TECHNICAL',\n",
       " 'SENIOR']"
      ]
     },
     "execution_count": 62,
     "metadata": {},
     "output_type": "execute_result"
    }
   ],
   "source": [
    "popular10_list"
   ]
  },
  {
   "cell_type": "code",
   "execution_count": 63,
   "metadata": {
    "scrolled": true
   },
   "outputs": [],
   "source": [
    "titlein10 =[]\n",
    "for j in dat_content2['job_title_clean']: \n",
    "    temp = []\n",
    "    for jsplit in j.split():\n",
    "        temp.append(jsplit in popular10_list)\n",
    "    titlein10.append(1*any(temp))\n",
    "dat_content2['job_popular'] = titlein10"
   ]
  },
  {
   "cell_type": "code",
   "execution_count": 64,
   "metadata": {},
   "outputs": [],
   "source": [
    "# l =[]\n",
    "# te = dat_content2.sample(5)\n",
    "# for j in te['job_title_clean']:\n",
    "#     temp = []\n",
    "#     for jsplit in j.split():\n",
    "#         temp.append(jsplit in popular10_list)\n",
    "#     l.append(1*any(temp))\n",
    "# print(l)"
   ]
  },
  {
   "cell_type": "code",
   "execution_count": 65,
   "metadata": {},
   "outputs": [],
   "source": [
    "# te"
   ]
  },
  {
   "cell_type": "code",
   "execution_count": 66,
   "metadata": {},
   "outputs": [
    {
     "data": {
      "text/plain": [
       "1    212683\n",
       "0     77184\n",
       "Name: job_popular, dtype: int64"
      ]
     },
     "execution_count": 66,
     "metadata": {},
     "output_type": "execute_result"
    }
   ],
   "source": [
    "dat_content2.job_popular.value_counts()"
   ]
  },
  {
   "cell_type": "code",
   "execution_count": 67,
   "metadata": {},
   "outputs": [
    {
     "data": {
      "text/plain": [
       "Index(['employer', 'base_salary', 'location', 'submit_date', 'start_date',\n",
       "       'case_status', 'city', 'job_title_clean', 'n_days', 'top100',\n",
       "       'job_popular'],\n",
       "      dtype='object')"
      ]
     },
     "execution_count": 67,
     "metadata": {},
     "output_type": "execute_result"
    }
   ],
   "source": [
    "dat_content2.columns"
   ]
  },
  {
   "cell_type": "code",
   "execution_count": 68,
   "metadata": {},
   "outputs": [],
   "source": [
    "dat_ml = dat_content2[['case_status','base_salary','n_days','top100','job_popular']]"
   ]
  },
  {
   "cell_type": "code",
   "execution_count": 69,
   "metadata": {},
   "outputs": [
    {
     "data": {
      "text/html": [
       "<div>\n",
       "<style scoped>\n",
       "    .dataframe tbody tr th:only-of-type {\n",
       "        vertical-align: middle;\n",
       "    }\n",
       "\n",
       "    .dataframe tbody tr th {\n",
       "        vertical-align: top;\n",
       "    }\n",
       "\n",
       "    .dataframe thead th {\n",
       "        text-align: right;\n",
       "    }\n",
       "</style>\n",
       "<table border=\"1\" class=\"dataframe\">\n",
       "  <thead>\n",
       "    <tr style=\"text-align: right;\">\n",
       "      <th></th>\n",
       "      <th>case_status</th>\n",
       "      <th>base_salary</th>\n",
       "      <th>n_days</th>\n",
       "      <th>top100</th>\n",
       "      <th>job_popular</th>\n",
       "    </tr>\n",
       "  </thead>\n",
       "  <tbody>\n",
       "    <tr>\n",
       "      <th>0</th>\n",
       "      <td>CERTIFIED</td>\n",
       "      <td>125000</td>\n",
       "      <td>20</td>\n",
       "      <td>1</td>\n",
       "      <td>1</td>\n",
       "    </tr>\n",
       "    <tr>\n",
       "      <th>1</th>\n",
       "      <td>WITHDRAWN</td>\n",
       "      <td>85000</td>\n",
       "      <td>14</td>\n",
       "      <td>0</td>\n",
       "      <td>0</td>\n",
       "    </tr>\n",
       "    <tr>\n",
       "      <th>2</th>\n",
       "      <td>CERTIFIED</td>\n",
       "      <td>85000</td>\n",
       "      <td>15</td>\n",
       "      <td>0</td>\n",
       "      <td>0</td>\n",
       "    </tr>\n",
       "    <tr>\n",
       "      <th>3</th>\n",
       "      <td>CERTIFIED</td>\n",
       "      <td>92700</td>\n",
       "      <td>47</td>\n",
       "      <td>0</td>\n",
       "      <td>1</td>\n",
       "    </tr>\n",
       "    <tr>\n",
       "      <th>4</th>\n",
       "      <td>CERTIFIED</td>\n",
       "      <td>92800</td>\n",
       "      <td>121</td>\n",
       "      <td>0</td>\n",
       "      <td>1</td>\n",
       "    </tr>\n",
       "    <tr>\n",
       "      <th>...</th>\n",
       "      <td>...</td>\n",
       "      <td>...</td>\n",
       "      <td>...</td>\n",
       "      <td>...</td>\n",
       "      <td>...</td>\n",
       "    </tr>\n",
       "    <tr>\n",
       "      <th>1693</th>\n",
       "      <td>CERTIFIED</td>\n",
       "      <td>62000</td>\n",
       "      <td>163</td>\n",
       "      <td>0</td>\n",
       "      <td>1</td>\n",
       "    </tr>\n",
       "    <tr>\n",
       "      <th>1694</th>\n",
       "      <td>CERTIFIED</td>\n",
       "      <td>60000</td>\n",
       "      <td>10</td>\n",
       "      <td>0</td>\n",
       "      <td>1</td>\n",
       "    </tr>\n",
       "    <tr>\n",
       "      <th>1695</th>\n",
       "      <td>CERTIFIED</td>\n",
       "      <td>71635</td>\n",
       "      <td>183</td>\n",
       "      <td>0</td>\n",
       "      <td>1</td>\n",
       "    </tr>\n",
       "    <tr>\n",
       "      <th>1696</th>\n",
       "      <td>CERTIFIED</td>\n",
       "      <td>61420</td>\n",
       "      <td>1</td>\n",
       "      <td>0</td>\n",
       "      <td>0</td>\n",
       "    </tr>\n",
       "    <tr>\n",
       "      <th>1697</th>\n",
       "      <td>CERTIFIED</td>\n",
       "      <td>100693</td>\n",
       "      <td>12</td>\n",
       "      <td>0</td>\n",
       "      <td>1</td>\n",
       "    </tr>\n",
       "  </tbody>\n",
       "</table>\n",
       "<p>289867 rows × 5 columns</p>\n",
       "</div>"
      ],
      "text/plain": [
       "     case_status  base_salary  n_days  top100  job_popular\n",
       "0      CERTIFIED       125000      20       1            1\n",
       "1      WITHDRAWN        85000      14       0            0\n",
       "2      CERTIFIED        85000      15       0            0\n",
       "3      CERTIFIED        92700      47       0            1\n",
       "4      CERTIFIED        92800     121       0            1\n",
       "...          ...          ...     ...     ...          ...\n",
       "1693   CERTIFIED        62000     163       0            1\n",
       "1694   CERTIFIED        60000      10       0            1\n",
       "1695   CERTIFIED        71635     183       0            1\n",
       "1696   CERTIFIED        61420       1       0            0\n",
       "1697   CERTIFIED       100693      12       0            1\n",
       "\n",
       "[289867 rows x 5 columns]"
      ]
     },
     "execution_count": 69,
     "metadata": {},
     "output_type": "execute_result"
    }
   ],
   "source": [
    "dat_ml"
   ]
  },
  {
   "cell_type": "markdown",
   "metadata": {},
   "source": [
    "#### `case_status`"
   ]
  },
  {
   "cell_type": "code",
   "execution_count": 70,
   "metadata": {},
   "outputs": [],
   "source": [
    "dat_ml['case_status'] = 1*(dat_ml['case_status']=='CERTIFIED')"
   ]
  },
  {
   "cell_type": "code",
   "execution_count": 71,
   "metadata": {
    "scrolled": false
   },
   "outputs": [
    {
     "data": {
      "text/html": [
       "<div>\n",
       "<style scoped>\n",
       "    .dataframe tbody tr th:only-of-type {\n",
       "        vertical-align: middle;\n",
       "    }\n",
       "\n",
       "    .dataframe tbody tr th {\n",
       "        vertical-align: top;\n",
       "    }\n",
       "\n",
       "    .dataframe thead th {\n",
       "        text-align: right;\n",
       "    }\n",
       "</style>\n",
       "<table border=\"1\" class=\"dataframe\">\n",
       "  <thead>\n",
       "    <tr style=\"text-align: right;\">\n",
       "      <th></th>\n",
       "      <th>case_status</th>\n",
       "      <th>base_salary</th>\n",
       "      <th>n_days</th>\n",
       "      <th>top100</th>\n",
       "      <th>job_popular</th>\n",
       "    </tr>\n",
       "  </thead>\n",
       "  <tbody>\n",
       "    <tr>\n",
       "      <th>0</th>\n",
       "      <td>1</td>\n",
       "      <td>125000</td>\n",
       "      <td>20</td>\n",
       "      <td>1</td>\n",
       "      <td>1</td>\n",
       "    </tr>\n",
       "    <tr>\n",
       "      <th>1</th>\n",
       "      <td>0</td>\n",
       "      <td>85000</td>\n",
       "      <td>14</td>\n",
       "      <td>0</td>\n",
       "      <td>0</td>\n",
       "    </tr>\n",
       "    <tr>\n",
       "      <th>2</th>\n",
       "      <td>1</td>\n",
       "      <td>85000</td>\n",
       "      <td>15</td>\n",
       "      <td>0</td>\n",
       "      <td>0</td>\n",
       "    </tr>\n",
       "    <tr>\n",
       "      <th>3</th>\n",
       "      <td>1</td>\n",
       "      <td>92700</td>\n",
       "      <td>47</td>\n",
       "      <td>0</td>\n",
       "      <td>1</td>\n",
       "    </tr>\n",
       "    <tr>\n",
       "      <th>4</th>\n",
       "      <td>1</td>\n",
       "      <td>92800</td>\n",
       "      <td>121</td>\n",
       "      <td>0</td>\n",
       "      <td>1</td>\n",
       "    </tr>\n",
       "    <tr>\n",
       "      <th>...</th>\n",
       "      <td>...</td>\n",
       "      <td>...</td>\n",
       "      <td>...</td>\n",
       "      <td>...</td>\n",
       "      <td>...</td>\n",
       "    </tr>\n",
       "    <tr>\n",
       "      <th>1693</th>\n",
       "      <td>1</td>\n",
       "      <td>62000</td>\n",
       "      <td>163</td>\n",
       "      <td>0</td>\n",
       "      <td>1</td>\n",
       "    </tr>\n",
       "    <tr>\n",
       "      <th>1694</th>\n",
       "      <td>1</td>\n",
       "      <td>60000</td>\n",
       "      <td>10</td>\n",
       "      <td>0</td>\n",
       "      <td>1</td>\n",
       "    </tr>\n",
       "    <tr>\n",
       "      <th>1695</th>\n",
       "      <td>1</td>\n",
       "      <td>71635</td>\n",
       "      <td>183</td>\n",
       "      <td>0</td>\n",
       "      <td>1</td>\n",
       "    </tr>\n",
       "    <tr>\n",
       "      <th>1696</th>\n",
       "      <td>1</td>\n",
       "      <td>61420</td>\n",
       "      <td>1</td>\n",
       "      <td>0</td>\n",
       "      <td>0</td>\n",
       "    </tr>\n",
       "    <tr>\n",
       "      <th>1697</th>\n",
       "      <td>1</td>\n",
       "      <td>100693</td>\n",
       "      <td>12</td>\n",
       "      <td>0</td>\n",
       "      <td>1</td>\n",
       "    </tr>\n",
       "  </tbody>\n",
       "</table>\n",
       "<p>289867 rows × 5 columns</p>\n",
       "</div>"
      ],
      "text/plain": [
       "      case_status  base_salary  n_days  top100  job_popular\n",
       "0               1       125000      20       1            1\n",
       "1               0        85000      14       0            0\n",
       "2               1        85000      15       0            0\n",
       "3               1        92700      47       0            1\n",
       "4               1        92800     121       0            1\n",
       "...           ...          ...     ...     ...          ...\n",
       "1693            1        62000     163       0            1\n",
       "1694            1        60000      10       0            1\n",
       "1695            1        71635     183       0            1\n",
       "1696            1        61420       1       0            0\n",
       "1697            1       100693      12       0            1\n",
       "\n",
       "[289867 rows x 5 columns]"
      ]
     },
     "execution_count": 71,
     "metadata": {},
     "output_type": "execute_result"
    }
   ],
   "source": [
    "dat_ml"
   ]
  },
  {
   "cell_type": "markdown",
   "metadata": {},
   "source": [
    "#### Machine Learning(Classification Task)"
   ]
  },
  {
   "cell_type": "code",
   "execution_count": 109,
   "metadata": {},
   "outputs": [],
   "source": [
    "dat = dat_ml.copy().reset_index(drop =True)"
   ]
  },
  {
   "cell_type": "code",
   "execution_count": 110,
   "metadata": {},
   "outputs": [
    {
     "data": {
      "text/html": [
       "<div>\n",
       "<style scoped>\n",
       "    .dataframe tbody tr th:only-of-type {\n",
       "        vertical-align: middle;\n",
       "    }\n",
       "\n",
       "    .dataframe tbody tr th {\n",
       "        vertical-align: top;\n",
       "    }\n",
       "\n",
       "    .dataframe thead th {\n",
       "        text-align: right;\n",
       "    }\n",
       "</style>\n",
       "<table border=\"1\" class=\"dataframe\">\n",
       "  <thead>\n",
       "    <tr style=\"text-align: right;\">\n",
       "      <th></th>\n",
       "      <th>case_status</th>\n",
       "      <th>base_salary</th>\n",
       "      <th>n_days</th>\n",
       "      <th>top100</th>\n",
       "      <th>job_popular</th>\n",
       "    </tr>\n",
       "  </thead>\n",
       "  <tbody>\n",
       "    <tr>\n",
       "      <th>0</th>\n",
       "      <td>1</td>\n",
       "      <td>125000</td>\n",
       "      <td>20</td>\n",
       "      <td>1</td>\n",
       "      <td>1</td>\n",
       "    </tr>\n",
       "    <tr>\n",
       "      <th>1</th>\n",
       "      <td>0</td>\n",
       "      <td>85000</td>\n",
       "      <td>14</td>\n",
       "      <td>0</td>\n",
       "      <td>0</td>\n",
       "    </tr>\n",
       "    <tr>\n",
       "      <th>2</th>\n",
       "      <td>1</td>\n",
       "      <td>85000</td>\n",
       "      <td>15</td>\n",
       "      <td>0</td>\n",
       "      <td>0</td>\n",
       "    </tr>\n",
       "    <tr>\n",
       "      <th>3</th>\n",
       "      <td>1</td>\n",
       "      <td>92700</td>\n",
       "      <td>47</td>\n",
       "      <td>0</td>\n",
       "      <td>1</td>\n",
       "    </tr>\n",
       "    <tr>\n",
       "      <th>4</th>\n",
       "      <td>1</td>\n",
       "      <td>92800</td>\n",
       "      <td>121</td>\n",
       "      <td>0</td>\n",
       "      <td>1</td>\n",
       "    </tr>\n",
       "    <tr>\n",
       "      <th>...</th>\n",
       "      <td>...</td>\n",
       "      <td>...</td>\n",
       "      <td>...</td>\n",
       "      <td>...</td>\n",
       "      <td>...</td>\n",
       "    </tr>\n",
       "    <tr>\n",
       "      <th>289862</th>\n",
       "      <td>1</td>\n",
       "      <td>62000</td>\n",
       "      <td>163</td>\n",
       "      <td>0</td>\n",
       "      <td>1</td>\n",
       "    </tr>\n",
       "    <tr>\n",
       "      <th>289863</th>\n",
       "      <td>1</td>\n",
       "      <td>60000</td>\n",
       "      <td>10</td>\n",
       "      <td>0</td>\n",
       "      <td>1</td>\n",
       "    </tr>\n",
       "    <tr>\n",
       "      <th>289864</th>\n",
       "      <td>1</td>\n",
       "      <td>71635</td>\n",
       "      <td>183</td>\n",
       "      <td>0</td>\n",
       "      <td>1</td>\n",
       "    </tr>\n",
       "    <tr>\n",
       "      <th>289865</th>\n",
       "      <td>1</td>\n",
       "      <td>61420</td>\n",
       "      <td>1</td>\n",
       "      <td>0</td>\n",
       "      <td>0</td>\n",
       "    </tr>\n",
       "    <tr>\n",
       "      <th>289866</th>\n",
       "      <td>1</td>\n",
       "      <td>100693</td>\n",
       "      <td>12</td>\n",
       "      <td>0</td>\n",
       "      <td>1</td>\n",
       "    </tr>\n",
       "  </tbody>\n",
       "</table>\n",
       "<p>289867 rows × 5 columns</p>\n",
       "</div>"
      ],
      "text/plain": [
       "        case_status  base_salary  n_days  top100  job_popular\n",
       "0                 1       125000      20       1            1\n",
       "1                 0        85000      14       0            0\n",
       "2                 1        85000      15       0            0\n",
       "3                 1        92700      47       0            1\n",
       "4                 1        92800     121       0            1\n",
       "...             ...          ...     ...     ...          ...\n",
       "289862            1        62000     163       0            1\n",
       "289863            1        60000      10       0            1\n",
       "289864            1        71635     183       0            1\n",
       "289865            1        61420       1       0            0\n",
       "289866            1       100693      12       0            1\n",
       "\n",
       "[289867 rows x 5 columns]"
      ]
     },
     "execution_count": 110,
     "metadata": {},
     "output_type": "execute_result"
    }
   ],
   "source": [
    "dat"
   ]
  },
  {
   "cell_type": "code",
   "execution_count": 73,
   "metadata": {
    "scrolled": true
   },
   "outputs": [
    {
     "data": {
      "text/plain": [
       "case_status    Int64\n",
       "base_salary    int64\n",
       "n_days         int64\n",
       "top100         int64\n",
       "job_popular    int64\n",
       "dtype: object"
      ]
     },
     "execution_count": 73,
     "metadata": {},
     "output_type": "execute_result"
    }
   ],
   "source": [
    "dat.dtypes"
   ]
  },
  {
   "cell_type": "code",
   "execution_count": 74,
   "metadata": {},
   "outputs": [],
   "source": [
    "for col in ['case_status', 'top100', 'job_popular']:\n",
    "    dat[col] = dat[col].astype('category').astype('int')"
   ]
  },
  {
   "cell_type": "code",
   "execution_count": 75,
   "metadata": {},
   "outputs": [],
   "source": [
    "y = dat[['case_status']]\n",
    "X = dat.drop(columns=['case_status'])\n",
    "train_X, test_X, train_y, test_y = train_test_split(X,y,test_size = .25,random_state=202011)"
   ]
  },
  {
   "cell_type": "code",
   "execution_count": 76,
   "metadata": {},
   "outputs": [],
   "source": [
    "# Set the folds index to ensure comparable samples\n",
    "fold_generator = KFold(n_splits=5, shuffle=True,random_state=202011)"
   ]
  },
  {
   "cell_type": "code",
   "execution_count": 77,
   "metadata": {},
   "outputs": [],
   "source": [
    "pipe = Pipeline(steps=[('pre_process', pp.MinMaxScaler()),('model',None)])"
   ]
  },
  {
   "cell_type": "code",
   "execution_count": 78,
   "metadata": {},
   "outputs": [],
   "source": [
    "search_space = [\n",
    "    \n",
    "    # NaiveBayes\n",
    "    {'model': [NB()]},\n",
    "    \n",
    "    # KNN with K tuning param\n",
    "    {'model' : [KNN()],\n",
    "     'model__n_neighbors':[5,10,25,50]},\n",
    "    \n",
    "    # Decision Tree with the Max Depth Param\n",
    "    {'model': [DT()],\n",
    "     'model__max_depth':[2,3,4]},\n",
    "    \n",
    "    # Random forest with the N Estimators tuning param\n",
    "    {'model' : [RF()],\n",
    "    'model__max_depth':[2,3,4],\n",
    "    'model__n_estimators':[500,1000,1500]}\n",
    "    \n",
    "]"
   ]
  },
  {
   "cell_type": "code",
   "execution_count": 79,
   "metadata": {},
   "outputs": [],
   "source": [
    "#Put it all together in a GridSearch\n",
    "search = GridSearchCV(pipe, search_space, \n",
    "                      cv = fold_generator,\n",
    "                      scoring='roc_auc')"
   ]
  },
  {
   "cell_type": "code",
   "execution_count": 80,
   "metadata": {},
   "outputs": [
    {
     "data": {
      "text/plain": [
       "GridSearchCV(cv=KFold(n_splits=5, random_state=202011, shuffle=True),\n",
       "             estimator=Pipeline(steps=[('pre_process', MinMaxScaler()),\n",
       "                                       ('model', None)]),\n",
       "             param_grid=[{'model': [GaussianNB()]},\n",
       "                         {'model': [KNeighborsClassifier()],\n",
       "                          'model__n_neighbors': [5, 10, 25, 50]},\n",
       "                         {'model': [DecisionTreeClassifier()],\n",
       "                          'model__max_depth': [2, 3, 4]},\n",
       "                         {'model': [RandomForestClassifier(max_depth=4,\n",
       "                                                           n_estimators=1500)],\n",
       "                          'model__max_depth': [2, 3, 4],\n",
       "                          'model__n_estimators': [500, 1000, 1500]}],\n",
       "             scoring='roc_auc')"
      ]
     },
     "execution_count": 80,
     "metadata": {},
     "output_type": "execute_result"
    }
   ],
   "source": [
    "# Run models\n",
    "search.fit(train_X,train_y)"
   ]
  },
  {
   "cell_type": "code",
   "execution_count": 81,
   "metadata": {},
   "outputs": [
    {
     "data": {
      "text/plain": [
       "0.6226489589003783"
      ]
     },
     "execution_count": 81,
     "metadata": {},
     "output_type": "execute_result"
    }
   ],
   "source": [
    "# Best ROC AUC score\n",
    "search.best_score_"
   ]
  },
  {
   "cell_type": "code",
   "execution_count": 82,
   "metadata": {},
   "outputs": [
    {
     "data": {
      "text/plain": [
       "{'model': RandomForestClassifier(max_depth=4, n_estimators=1500),\n",
       " 'model__max_depth': 4,\n",
       " 'model__n_estimators': 1500}"
      ]
     },
     "execution_count": 82,
     "metadata": {},
     "output_type": "execute_result"
    }
   ],
   "source": [
    "# Best Model\n",
    "search.best_params_"
   ]
  },
  {
   "cell_type": "code",
   "execution_count": 83,
   "metadata": {},
   "outputs": [],
   "source": [
    "rf_mod = search.best_estimator_"
   ]
  },
  {
   "cell_type": "markdown",
   "metadata": {},
   "source": [
    "#### Performance(training set)\n",
    "Let's look at performance on training set."
   ]
  },
  {
   "cell_type": "code",
   "execution_count": 84,
   "metadata": {},
   "outputs": [],
   "source": [
    "train_pred_y = rf_mod.predict(train_X)\n",
    "train_pred_y_proba = rf_mod.predict_proba(train_X)[:,1]"
   ]
  },
  {
   "cell_type": "code",
   "execution_count": 85,
   "metadata": {},
   "outputs": [
    {
     "data": {
      "text/plain": [
       "0.042088316467341305"
      ]
     },
     "execution_count": 85,
     "metadata": {},
     "output_type": "execute_result"
    }
   ],
   "source": [
    "m.mean_squared_error(train_y,train_pred_y)"
   ]
  },
  {
   "cell_type": "code",
   "execution_count": 86,
   "metadata": {},
   "outputs": [
    {
     "data": {
      "text/plain": [
       "0.9579116835326587"
      ]
     },
     "execution_count": 86,
     "metadata": {},
     "output_type": "execute_result"
    }
   ],
   "source": [
    "m.accuracy_score(train_y,train_pred_y)"
   ]
  },
  {
   "cell_type": "code",
   "execution_count": 87,
   "metadata": {},
   "outputs": [
    {
     "data": {
      "text/plain": [
       "0.6246550731626518"
      ]
     },
     "execution_count": 87,
     "metadata": {},
     "output_type": "execute_result"
    }
   ],
   "source": [
    "m.roc_auc_score(train_y,train_pred_y_proba)"
   ]
  },
  {
   "cell_type": "markdown",
   "metadata": {},
   "source": [
    "#### Performance(test set)\n",
    "Let's look at performance on test set."
   ]
  },
  {
   "cell_type": "code",
   "execution_count": 88,
   "metadata": {},
   "outputs": [],
   "source": [
    "pred_y = rf_mod.predict(test_X)\n",
    "pred_y_proba = rf_mod.predict_proba(test_X)[:,1]"
   ]
  },
  {
   "cell_type": "code",
   "execution_count": 89,
   "metadata": {},
   "outputs": [
    {
     "data": {
      "text/plain": [
       "0.042005326562435316"
      ]
     },
     "execution_count": 89,
     "metadata": {},
     "output_type": "execute_result"
    }
   ],
   "source": [
    "m.mean_squared_error(test_y,pred_y)"
   ]
  },
  {
   "cell_type": "code",
   "execution_count": 90,
   "metadata": {
    "scrolled": true
   },
   "outputs": [
    {
     "data": {
      "text/plain": [
       "0.9579946734375647"
      ]
     },
     "execution_count": 90,
     "metadata": {},
     "output_type": "execute_result"
    }
   ],
   "source": [
    "m.accuracy_score(test_y,pred_y)"
   ]
  },
  {
   "cell_type": "code",
   "execution_count": 91,
   "metadata": {},
   "outputs": [
    {
     "data": {
      "text/plain": [
       "0.6231671582776218"
      ]
     },
     "execution_count": 91,
     "metadata": {},
     "output_type": "execute_result"
    }
   ],
   "source": [
    "m.roc_auc_score(test_y,pred_y_proba)"
   ]
  },
  {
   "cell_type": "code",
   "execution_count": 92,
   "metadata": {},
   "outputs": [
    {
     "name": "stdout",
     "output_type": "stream",
     "text": [
      "              precision    recall  f1-score   support\n",
      "\n",
      "           0       1.00      0.01      0.02      3082\n",
      "           1       0.96      1.00      0.98     69385\n",
      "\n",
      "    accuracy                           0.96     72467\n",
      "   macro avg       0.98      0.51      0.50     72467\n",
      "weighted avg       0.96      0.96      0.94     72467\n",
      "\n"
     ]
    }
   ],
   "source": [
    "print(m.classification_report(test_y,pred_y))"
   ]
  },
  {
   "cell_type": "code",
   "execution_count": 103,
   "metadata": {},
   "outputs": [
    {
     "data": {
      "image/png": "[encoded data removed]",
      "text/plain": [
       "<Figure size 640x480 with 1 Axes>"
      ]
     },
     "metadata": {},
     "output_type": "display_data"
    },
    {
     "data": {
      "text/plain": [
       "<ggplot: (8794591568827)>"
      ]
     },
     "execution_count": 103,
     "metadata": {},
     "output_type": "execute_result"
    }
   ],
   "source": [
    "fpr,tpr,thres = m.roc_curve(test_y,pred_y_proba)\n",
    "\n",
    "(\n",
    "    ggplot(pd.DataFrame(dict(fpr=fpr,tpr=tpr)),\n",
    "           aes(x=\"fpr\",y=\"tpr\")) +\n",
    "    geom_path(color=\"darkred\") +\n",
    "    geom_abline(linetype=\"dashed\") +\n",
    "    theme_classic() +\n",
    "    labs(y=\"True Positive Rate\",x=\"False Positive Rate\", title = 'ROC Curve')\n",
    ")"
   ]
  },
  {
   "cell_type": "markdown",
   "metadata": {},
   "source": [
    "#### For the most predictive model, do the following:\n",
    "- (a) Examine the variable importance, which three variables does the model rely on most when making predictions? (2 Points)\n",
    "- (b) Plot partial dependency plots for the top three most important variable. What does the marginal relationship tell you? (3 Points)\n",
    "- (c) Plot an ICE plot for the most important variable. Is there any heterogeneity in the marginal effect across observations? If so, what might this mean? (2 Points)"
   ]
  },
  {
   "cell_type": "code",
   "execution_count": 94,
   "metadata": {},
   "outputs": [],
   "source": [
    "from sklearn.inspection import partial_dependence\n",
    "from sklearn.inspection import plot_partial_dependence"
   ]
  },
  {
   "cell_type": "code",
   "execution_count": 95,
   "metadata": {},
   "outputs": [],
   "source": [
    "from sklearn.inspection import permutation_importance"
   ]
  },
  {
   "cell_type": "code",
   "execution_count": 96,
   "metadata": {},
   "outputs": [],
   "source": [
    "vi = permutation_importance(rf_mod,train_X,train_y,n_repeats=5)"
   ]
  },
  {
   "cell_type": "code",
   "execution_count": 97,
   "metadata": {},
   "outputs": [
    {
     "data": {
      "text/html": [
       "<div>\n",
       "<style scoped>\n",
       "    .dataframe tbody tr th:only-of-type {\n",
       "        vertical-align: middle;\n",
       "    }\n",
       "\n",
       "    .dataframe tbody tr th {\n",
       "        vertical-align: top;\n",
       "    }\n",
       "\n",
       "    .dataframe thead th {\n",
       "        text-align: right;\n",
       "    }\n",
       "</style>\n",
       "<table border=\"1\" class=\"dataframe\">\n",
       "  <thead>\n",
       "    <tr style=\"text-align: right;\">\n",
       "      <th></th>\n",
       "      <th>variable</th>\n",
       "      <th>vi</th>\n",
       "      <th>std</th>\n",
       "      <th>low</th>\n",
       "      <th>high</th>\n",
       "    </tr>\n",
       "  </thead>\n",
       "  <tbody>\n",
       "    <tr>\n",
       "      <th>0</th>\n",
       "      <td>n_days</td>\n",
       "      <td>7.755290e-04</td>\n",
       "      <td>0.000004</td>\n",
       "      <td>0.000768</td>\n",
       "      <td>0.000783</td>\n",
       "    </tr>\n",
       "    <tr>\n",
       "      <th>1</th>\n",
       "      <td>base_salary</td>\n",
       "      <td>4.599816e-06</td>\n",
       "      <td>0.000000</td>\n",
       "      <td>0.000005</td>\n",
       "      <td>0.000005</td>\n",
       "    </tr>\n",
       "    <tr>\n",
       "      <th>2</th>\n",
       "      <td>top100</td>\n",
       "      <td>9.199632e-07</td>\n",
       "      <td>0.000002</td>\n",
       "      <td>-0.000003</td>\n",
       "      <td>0.000005</td>\n",
       "    </tr>\n",
       "    <tr>\n",
       "      <th>3</th>\n",
       "      <td>job_popular</td>\n",
       "      <td>0.000000e+00</td>\n",
       "      <td>0.000000</td>\n",
       "      <td>0.000000</td>\n",
       "      <td>0.000000</td>\n",
       "    </tr>\n",
       "  </tbody>\n",
       "</table>\n",
       "</div>"
      ],
      "text/plain": [
       "      variable            vi       std       low      high\n",
       "0       n_days  7.755290e-04  0.000004  0.000768  0.000783\n",
       "1  base_salary  4.599816e-06  0.000000  0.000005  0.000005\n",
       "2       top100  9.199632e-07  0.000002 -0.000003  0.000005\n",
       "3  job_popular  0.000000e+00  0.000000  0.000000  0.000000"
      ]
     },
     "execution_count": 97,
     "metadata": {},
     "output_type": "execute_result"
    }
   ],
   "source": [
    "# Organize as a data frame \n",
    "vi_dat = pd.DataFrame(dict(variable=train_X.columns,\n",
    "                           vi = vi['importances_mean'],\n",
    "                           std = vi['importances_std']))\n",
    "\n",
    "# Generate intervals\n",
    "vi_dat['low'] = vi_dat['vi'] - 2*vi_dat['std']\n",
    "vi_dat['high'] = vi_dat['vi'] + 2*vi_dat['std']\n",
    "\n",
    "# But in order from most to least important\n",
    "vi_dat = vi_dat.sort_values(by=\"vi\",ascending=False).reset_index(drop=True)\n",
    "\n",
    "\n",
    "vi_dat"
   ]
  },
  {
   "cell_type": "code",
   "execution_count": 98,
   "metadata": {
    "scrolled": false
   },
   "outputs": [
    {
     "data": {
      "image/png": "[encoded data removed]",
      "text/plain": [
       "<Figure size 640x480 with 1 Axes>"
      ]
     },
     "metadata": {},
     "output_type": "display_data"
    },
    {
     "data": {
      "text/plain": [
       "<ggplot: (8794550714763)>"
      ]
     },
     "execution_count": 98,
     "metadata": {},
     "output_type": "execute_result"
    }
   ],
   "source": [
    "# Plot\n",
    "(\n",
    "    ggplot(vi_dat,\n",
    "          aes(x=\"variable\",y=\"vi\")) +\n",
    "    geom_col(alpha=.5) +\n",
    "    geom_point() +\n",
    "    geom_errorbar(aes(ymin=\"low\",ymax=\"high\"),width=.2) +\n",
    "    theme_bw() +\n",
    "    scale_x_discrete(limits=vi_dat.variable.tolist()) +\n",
    "    coord_flip() +\n",
    "    labs(y=\"Reduction in AUC ROC\",x=\"\")\n",
    ")"
   ]
  }
 ],
 "metadata": {
  "kernelspec": {
   "display_name": "Python 3",
   "language": "python",
   "name": "python3"
  },
  "language_info": {
   "codemirror_mode": {
    "name": "ipython",
    "version": 3
   },
   "file_extension": ".py",
   "mimetype": "text/x-python",
   "name": "python",
   "nbconvert_exporter": "python",
   "pygments_lexer": "ipython3",
   "version": "3.8.5"
  },
  "toc": {
   "base_numbering": 1,
   "nav_menu": {},
   "number_sections": false,
   "sideBar": true,
   "skip_h1_title": false,
   "title_cell": "Table of Contents",
   "title_sidebar": "Contents",
   "toc_cell": false,
   "toc_position": {},
   "toc_section_display": true,
   "toc_window_display": true
  }
 },
 "nbformat": 4,
 "nbformat_minor": 4
}
